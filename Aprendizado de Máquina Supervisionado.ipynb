{
  "nbformat": 4,
  "nbformat_minor": 0,
  "metadata": {
    "colab": {
      "provenance": []
    },
    "kernelspec": {
      "name": "python3",
      "display_name": "Python 3"
    },
    "language_info": {
      "name": "python"
    }
  },
  "cells": [
    {
      "cell_type": "markdown",
      "source": [
        "# **Árvores de Decisão**"
      ],
      "metadata": {
        "id": "6BR4ccrM8Gu8"
      }
    },
    {
      "cell_type": "markdown",
      "source": [
        "Este projeto tem por objetivo desenvolver um algoritmo de Machine Learning para prever o possivél nivél de cancer de pulmão com base em alguns fatores clínicos e laboratoriais. "
      ],
      "metadata": {
        "id": "oZ8exXhYEnoc"
      }
    },
    {
      "cell_type": "code",
      "execution_count": 1,
      "metadata": {
        "id": "sFkDspfM8D0z"
      },
      "outputs": [],
      "source": [
        "import numpy as np\n",
        "import pandas as pd"
      ]
    },
    {
      "cell_type": "code",
      "source": [
        "from google.colab import drive\n",
        "drive.mount('/content/drive')"
      ],
      "metadata": {
        "colab": {
          "base_uri": "https://localhost:8080/"
        },
        "id": "BjSODw67EDsS",
        "outputId": "f0ccab0f-3d68-4a33-ec29-7af6ab0d3b46"
      },
      "execution_count": 2,
      "outputs": [
        {
          "output_type": "stream",
          "name": "stdout",
          "text": [
            "Mounted at /content/drive\n"
          ]
        }
      ]
    },
    {
      "cell_type": "code",
      "source": [
        "import warnings\n",
        "warnings.filterwarnings(\"ignore\")"
      ],
      "metadata": {
        "id": "m4qdcuu1ETg5"
      },
      "execution_count": 3,
      "outputs": []
    },
    {
      "cell_type": "code",
      "source": [
        "df = pd.read_csv('/content/drive/MyDrive/UP/cancer patient data sets.csv',\n",
        "                    sep=',', encoding='utf-8')"
      ],
      "metadata": {
        "id": "bFN_jjWFEVvz"
      },
      "execution_count": 18,
      "outputs": []
    },
    {
      "cell_type": "code",
      "source": [
        "df.head()"
      ],
      "metadata": {
        "colab": {
          "base_uri": "https://localhost:8080/",
          "height": 352
        },
        "id": "xKO0lhLuF0xB",
        "outputId": "f8584db0-0b43-41c2-fbed-541a4d830516"
      },
      "execution_count": 20,
      "outputs": [
        {
          "output_type": "execute_result",
          "data": {
            "text/plain": [
              "   index Patient Id  Age  Gender  Air Pollution  Alcohol use  Dust Allergy  \\\n",
              "0      0         P1   33       1              2            4             5   \n",
              "1      1        P10   17       1              3            1             5   \n",
              "2      2       P100   35       1              4            5             6   \n",
              "3      3      P1000   37       1              7            7             7   \n",
              "4      4       P101   46       1              6            8             7   \n",
              "\n",
              "   OccuPational Hazards  Genetic Risk  chronic Lung Disease  ...  Fatigue  \\\n",
              "0                     4             3                     2  ...        3   \n",
              "1                     3             4                     2  ...        1   \n",
              "2                     5             5                     4  ...        8   \n",
              "3                     7             6                     7  ...        4   \n",
              "4                     7             7                     6  ...        3   \n",
              "\n",
              "   Weight Loss  Shortness of Breath  Wheezing  Swallowing Difficulty  \\\n",
              "0            4                    2         2                      3   \n",
              "1            3                    7         8                      6   \n",
              "2            7                    9         2                      1   \n",
              "3            2                    3         1                      4   \n",
              "4            2                    4         1                      4   \n",
              "\n",
              "   Clubbing of Finger Nails  Frequent Cold  Dry Cough  Snoring   Level  \n",
              "0                         1              2          3        4     Low  \n",
              "1                         2              1          7        2  Medium  \n",
              "2                         4              6          7        2    High  \n",
              "3                         5              6          7        5    High  \n",
              "4                         2              4          2        3    High  \n",
              "\n",
              "[5 rows x 26 columns]"
            ],
            "text/html": [
              "\n",
              "  <div id=\"df-beb01f24-fc04-4d32-a24c-a19ba429c4e0\">\n",
              "    <div class=\"colab-df-container\">\n",
              "      <div>\n",
              "<style scoped>\n",
              "    .dataframe tbody tr th:only-of-type {\n",
              "        vertical-align: middle;\n",
              "    }\n",
              "\n",
              "    .dataframe tbody tr th {\n",
              "        vertical-align: top;\n",
              "    }\n",
              "\n",
              "    .dataframe thead th {\n",
              "        text-align: right;\n",
              "    }\n",
              "</style>\n",
              "<table border=\"1\" class=\"dataframe\">\n",
              "  <thead>\n",
              "    <tr style=\"text-align: right;\">\n",
              "      <th></th>\n",
              "      <th>index</th>\n",
              "      <th>Patient Id</th>\n",
              "      <th>Age</th>\n",
              "      <th>Gender</th>\n",
              "      <th>Air Pollution</th>\n",
              "      <th>Alcohol use</th>\n",
              "      <th>Dust Allergy</th>\n",
              "      <th>OccuPational Hazards</th>\n",
              "      <th>Genetic Risk</th>\n",
              "      <th>chronic Lung Disease</th>\n",
              "      <th>...</th>\n",
              "      <th>Fatigue</th>\n",
              "      <th>Weight Loss</th>\n",
              "      <th>Shortness of Breath</th>\n",
              "      <th>Wheezing</th>\n",
              "      <th>Swallowing Difficulty</th>\n",
              "      <th>Clubbing of Finger Nails</th>\n",
              "      <th>Frequent Cold</th>\n",
              "      <th>Dry Cough</th>\n",
              "      <th>Snoring</th>\n",
              "      <th>Level</th>\n",
              "    </tr>\n",
              "  </thead>\n",
              "  <tbody>\n",
              "    <tr>\n",
              "      <th>0</th>\n",
              "      <td>0</td>\n",
              "      <td>P1</td>\n",
              "      <td>33</td>\n",
              "      <td>1</td>\n",
              "      <td>2</td>\n",
              "      <td>4</td>\n",
              "      <td>5</td>\n",
              "      <td>4</td>\n",
              "      <td>3</td>\n",
              "      <td>2</td>\n",
              "      <td>...</td>\n",
              "      <td>3</td>\n",
              "      <td>4</td>\n",
              "      <td>2</td>\n",
              "      <td>2</td>\n",
              "      <td>3</td>\n",
              "      <td>1</td>\n",
              "      <td>2</td>\n",
              "      <td>3</td>\n",
              "      <td>4</td>\n",
              "      <td>Low</td>\n",
              "    </tr>\n",
              "    <tr>\n",
              "      <th>1</th>\n",
              "      <td>1</td>\n",
              "      <td>P10</td>\n",
              "      <td>17</td>\n",
              "      <td>1</td>\n",
              "      <td>3</td>\n",
              "      <td>1</td>\n",
              "      <td>5</td>\n",
              "      <td>3</td>\n",
              "      <td>4</td>\n",
              "      <td>2</td>\n",
              "      <td>...</td>\n",
              "      <td>1</td>\n",
              "      <td>3</td>\n",
              "      <td>7</td>\n",
              "      <td>8</td>\n",
              "      <td>6</td>\n",
              "      <td>2</td>\n",
              "      <td>1</td>\n",
              "      <td>7</td>\n",
              "      <td>2</td>\n",
              "      <td>Medium</td>\n",
              "    </tr>\n",
              "    <tr>\n",
              "      <th>2</th>\n",
              "      <td>2</td>\n",
              "      <td>P100</td>\n",
              "      <td>35</td>\n",
              "      <td>1</td>\n",
              "      <td>4</td>\n",
              "      <td>5</td>\n",
              "      <td>6</td>\n",
              "      <td>5</td>\n",
              "      <td>5</td>\n",
              "      <td>4</td>\n",
              "      <td>...</td>\n",
              "      <td>8</td>\n",
              "      <td>7</td>\n",
              "      <td>9</td>\n",
              "      <td>2</td>\n",
              "      <td>1</td>\n",
              "      <td>4</td>\n",
              "      <td>6</td>\n",
              "      <td>7</td>\n",
              "      <td>2</td>\n",
              "      <td>High</td>\n",
              "    </tr>\n",
              "    <tr>\n",
              "      <th>3</th>\n",
              "      <td>3</td>\n",
              "      <td>P1000</td>\n",
              "      <td>37</td>\n",
              "      <td>1</td>\n",
              "      <td>7</td>\n",
              "      <td>7</td>\n",
              "      <td>7</td>\n",
              "      <td>7</td>\n",
              "      <td>6</td>\n",
              "      <td>7</td>\n",
              "      <td>...</td>\n",
              "      <td>4</td>\n",
              "      <td>2</td>\n",
              "      <td>3</td>\n",
              "      <td>1</td>\n",
              "      <td>4</td>\n",
              "      <td>5</td>\n",
              "      <td>6</td>\n",
              "      <td>7</td>\n",
              "      <td>5</td>\n",
              "      <td>High</td>\n",
              "    </tr>\n",
              "    <tr>\n",
              "      <th>4</th>\n",
              "      <td>4</td>\n",
              "      <td>P101</td>\n",
              "      <td>46</td>\n",
              "      <td>1</td>\n",
              "      <td>6</td>\n",
              "      <td>8</td>\n",
              "      <td>7</td>\n",
              "      <td>7</td>\n",
              "      <td>7</td>\n",
              "      <td>6</td>\n",
              "      <td>...</td>\n",
              "      <td>3</td>\n",
              "      <td>2</td>\n",
              "      <td>4</td>\n",
              "      <td>1</td>\n",
              "      <td>4</td>\n",
              "      <td>2</td>\n",
              "      <td>4</td>\n",
              "      <td>2</td>\n",
              "      <td>3</td>\n",
              "      <td>High</td>\n",
              "    </tr>\n",
              "  </tbody>\n",
              "</table>\n",
              "<p>5 rows × 26 columns</p>\n",
              "</div>\n",
              "      <button class=\"colab-df-convert\" onclick=\"convertToInteractive('df-beb01f24-fc04-4d32-a24c-a19ba429c4e0')\"\n",
              "              title=\"Convert this dataframe to an interactive table.\"\n",
              "              style=\"display:none;\">\n",
              "        \n",
              "  <svg xmlns=\"http://www.w3.org/2000/svg\" height=\"24px\"viewBox=\"0 0 24 24\"\n",
              "       width=\"24px\">\n",
              "    <path d=\"M0 0h24v24H0V0z\" fill=\"none\"/>\n",
              "    <path d=\"M18.56 5.44l.94 2.06.94-2.06 2.06-.94-2.06-.94-.94-2.06-.94 2.06-2.06.94zm-11 1L8.5 8.5l.94-2.06 2.06-.94-2.06-.94L8.5 2.5l-.94 2.06-2.06.94zm10 10l.94 2.06.94-2.06 2.06-.94-2.06-.94-.94-2.06-.94 2.06-2.06.94z\"/><path d=\"M17.41 7.96l-1.37-1.37c-.4-.4-.92-.59-1.43-.59-.52 0-1.04.2-1.43.59L10.3 9.45l-7.72 7.72c-.78.78-.78 2.05 0 2.83L4 21.41c.39.39.9.59 1.41.59.51 0 1.02-.2 1.41-.59l7.78-7.78 2.81-2.81c.8-.78.8-2.07 0-2.86zM5.41 20L4 18.59l7.72-7.72 1.47 1.35L5.41 20z\"/>\n",
              "  </svg>\n",
              "      </button>\n",
              "      \n",
              "  <style>\n",
              "    .colab-df-container {\n",
              "      display:flex;\n",
              "      flex-wrap:wrap;\n",
              "      gap: 12px;\n",
              "    }\n",
              "\n",
              "    .colab-df-convert {\n",
              "      background-color: #E8F0FE;\n",
              "      border: none;\n",
              "      border-radius: 50%;\n",
              "      cursor: pointer;\n",
              "      display: none;\n",
              "      fill: #1967D2;\n",
              "      height: 32px;\n",
              "      padding: 0 0 0 0;\n",
              "      width: 32px;\n",
              "    }\n",
              "\n",
              "    .colab-df-convert:hover {\n",
              "      background-color: #E2EBFA;\n",
              "      box-shadow: 0px 1px 2px rgba(60, 64, 67, 0.3), 0px 1px 3px 1px rgba(60, 64, 67, 0.15);\n",
              "      fill: #174EA6;\n",
              "    }\n",
              "\n",
              "    [theme=dark] .colab-df-convert {\n",
              "      background-color: #3B4455;\n",
              "      fill: #D2E3FC;\n",
              "    }\n",
              "\n",
              "    [theme=dark] .colab-df-convert:hover {\n",
              "      background-color: #434B5C;\n",
              "      box-shadow: 0px 1px 3px 1px rgba(0, 0, 0, 0.15);\n",
              "      filter: drop-shadow(0px 1px 2px rgba(0, 0, 0, 0.3));\n",
              "      fill: #FFFFFF;\n",
              "    }\n",
              "  </style>\n",
              "\n",
              "      <script>\n",
              "        const buttonEl =\n",
              "          document.querySelector('#df-beb01f24-fc04-4d32-a24c-a19ba429c4e0 button.colab-df-convert');\n",
              "        buttonEl.style.display =\n",
              "          google.colab.kernel.accessAllowed ? 'block' : 'none';\n",
              "\n",
              "        async function convertToInteractive(key) {\n",
              "          const element = document.querySelector('#df-beb01f24-fc04-4d32-a24c-a19ba429c4e0');\n",
              "          const dataTable =\n",
              "            await google.colab.kernel.invokeFunction('convertToInteractive',\n",
              "                                                     [key], {});\n",
              "          if (!dataTable) return;\n",
              "\n",
              "          const docLinkHtml = 'Like what you see? Visit the ' +\n",
              "            '<a target=\"_blank\" href=https://colab.research.google.com/notebooks/data_table.ipynb>data table notebook</a>'\n",
              "            + ' to learn more about interactive tables.';\n",
              "          element.innerHTML = '';\n",
              "          dataTable['output_type'] = 'display_data';\n",
              "          await google.colab.output.renderOutput(dataTable, element);\n",
              "          const docLink = document.createElement('div');\n",
              "          docLink.innerHTML = docLinkHtml;\n",
              "          element.appendChild(docLink);\n",
              "        }\n",
              "      </script>\n",
              "    </div>\n",
              "  </div>\n",
              "  "
            ]
          },
          "metadata": {},
          "execution_count": 20
        }
      ]
    },
    {
      "cell_type": "markdown",
      "source": [
        "## **Transformando as variáveis categóricas nominais em variáveis categóricas ordinais**"
      ],
      "metadata": {
        "id": "rC3bvmLVE48o"
      }
    },
    {
      "cell_type": "code",
      "source": [
        "df2 = pd.DataFrame.copy(df)"
      ],
      "metadata": {
        "id": "wsnY_QttE-ND"
      },
      "execution_count": 19,
      "outputs": []
    },
    {
      "cell_type": "code",
      "source": [
        "df2.dtypes"
      ],
      "metadata": {
        "colab": {
          "base_uri": "https://localhost:8080/"
        },
        "id": "Y9Q8TVCcFAub",
        "outputId": "9f0b3a25-95a7-475e-f70a-e5a9461f7b40"
      },
      "execution_count": 21,
      "outputs": [
        {
          "output_type": "execute_result",
          "data": {
            "text/plain": [
              "index                        int64\n",
              "Patient Id                  object\n",
              "Age                          int64\n",
              "Gender                       int64\n",
              "Air Pollution                int64\n",
              "Alcohol use                  int64\n",
              "Dust Allergy                 int64\n",
              "OccuPational Hazards         int64\n",
              "Genetic Risk                 int64\n",
              "chronic Lung Disease         int64\n",
              "Balanced Diet                int64\n",
              "Obesity                      int64\n",
              "Smoking                      int64\n",
              "Passive Smoker               int64\n",
              "Chest Pain                   int64\n",
              "Coughing of Blood            int64\n",
              "Fatigue                      int64\n",
              "Weight Loss                  int64\n",
              "Shortness of Breath          int64\n",
              "Wheezing                     int64\n",
              "Swallowing Difficulty        int64\n",
              "Clubbing of Finger Nails     int64\n",
              "Frequent Cold                int64\n",
              "Dry Cough                    int64\n",
              "Snoring                      int64\n",
              "Level                       object\n",
              "dtype: object"
            ]
          },
          "metadata": {},
          "execution_count": 21
        }
      ]
    },
    {
      "cell_type": "code",
      "source": [
        "df2['Level'].replace({'Low':0, 'Medium': 1, 'High': 2}, inplace=True)\n",
        "df2.dtypes"
      ],
      "metadata": {
        "colab": {
          "base_uri": "https://localhost:8080/"
        },
        "id": "jiOvbxmOFqKC",
        "outputId": "10cdb91b-d5ad-4d46-a194-7de6177e2d54"
      },
      "execution_count": 22,
      "outputs": [
        {
          "output_type": "execute_result",
          "data": {
            "text/plain": [
              "index                        int64\n",
              "Patient Id                  object\n",
              "Age                          int64\n",
              "Gender                       int64\n",
              "Air Pollution                int64\n",
              "Alcohol use                  int64\n",
              "Dust Allergy                 int64\n",
              "OccuPational Hazards         int64\n",
              "Genetic Risk                 int64\n",
              "chronic Lung Disease         int64\n",
              "Balanced Diet                int64\n",
              "Obesity                      int64\n",
              "Smoking                      int64\n",
              "Passive Smoker               int64\n",
              "Chest Pain                   int64\n",
              "Coughing of Blood            int64\n",
              "Fatigue                      int64\n",
              "Weight Loss                  int64\n",
              "Shortness of Breath          int64\n",
              "Wheezing                     int64\n",
              "Swallowing Difficulty        int64\n",
              "Clubbing of Finger Nails     int64\n",
              "Frequent Cold                int64\n",
              "Dry Cough                    int64\n",
              "Snoring                      int64\n",
              "Level                        int64\n",
              "dtype: object"
            ]
          },
          "metadata": {},
          "execution_count": 22
        }
      ]
    },
    {
      "cell_type": "markdown",
      "source": [],
      "metadata": {
        "id": "mW2ZGmAXGY_k"
      }
    },
    {
      "cell_type": "markdown",
      "source": [
        "## **Dropando coluna 'Patient ID'**"
      ],
      "metadata": {
        "id": "KQX7PHE3Gmaz"
      }
    },
    {
      "cell_type": "code",
      "source": [
        "df2 = df2.drop(columns=['Patient Id'])\n",
        "df2.head()"
      ],
      "metadata": {
        "colab": {
          "base_uri": "https://localhost:8080/",
          "height": 352
        },
        "id": "f1N7OubDGYjW",
        "outputId": "8391a5dc-6a96-4d29-fd40-796d09642ec3"
      },
      "execution_count": 24,
      "outputs": [
        {
          "output_type": "execute_result",
          "data": {
            "text/plain": [
              "   index  Age  Gender  Air Pollution  Alcohol use  Dust Allergy  \\\n",
              "0      0   33       1              2            4             5   \n",
              "1      1   17       1              3            1             5   \n",
              "2      2   35       1              4            5             6   \n",
              "3      3   37       1              7            7             7   \n",
              "4      4   46       1              6            8             7   \n",
              "\n",
              "   OccuPational Hazards  Genetic Risk  chronic Lung Disease  Balanced Diet  \\\n",
              "0                     4             3                     2              2   \n",
              "1                     3             4                     2              2   \n",
              "2                     5             5                     4              6   \n",
              "3                     7             6                     7              7   \n",
              "4                     7             7                     6              7   \n",
              "\n",
              "   ...  Fatigue  Weight Loss  Shortness of Breath  Wheezing  \\\n",
              "0  ...        3            4                    2         2   \n",
              "1  ...        1            3                    7         8   \n",
              "2  ...        8            7                    9         2   \n",
              "3  ...        4            2                    3         1   \n",
              "4  ...        3            2                    4         1   \n",
              "\n",
              "   Swallowing Difficulty  Clubbing of Finger Nails  Frequent Cold  Dry Cough  \\\n",
              "0                      3                         1              2          3   \n",
              "1                      6                         2              1          7   \n",
              "2                      1                         4              6          7   \n",
              "3                      4                         5              6          7   \n",
              "4                      4                         2              4          2   \n",
              "\n",
              "   Snoring  Level  \n",
              "0        4      0  \n",
              "1        2      1  \n",
              "2        2      2  \n",
              "3        5      2  \n",
              "4        3      2  \n",
              "\n",
              "[5 rows x 25 columns]"
            ],
            "text/html": [
              "\n",
              "  <div id=\"df-04ee7c2a-47d7-41a1-9131-cdb144857c38\">\n",
              "    <div class=\"colab-df-container\">\n",
              "      <div>\n",
              "<style scoped>\n",
              "    .dataframe tbody tr th:only-of-type {\n",
              "        vertical-align: middle;\n",
              "    }\n",
              "\n",
              "    .dataframe tbody tr th {\n",
              "        vertical-align: top;\n",
              "    }\n",
              "\n",
              "    .dataframe thead th {\n",
              "        text-align: right;\n",
              "    }\n",
              "</style>\n",
              "<table border=\"1\" class=\"dataframe\">\n",
              "  <thead>\n",
              "    <tr style=\"text-align: right;\">\n",
              "      <th></th>\n",
              "      <th>index</th>\n",
              "      <th>Age</th>\n",
              "      <th>Gender</th>\n",
              "      <th>Air Pollution</th>\n",
              "      <th>Alcohol use</th>\n",
              "      <th>Dust Allergy</th>\n",
              "      <th>OccuPational Hazards</th>\n",
              "      <th>Genetic Risk</th>\n",
              "      <th>chronic Lung Disease</th>\n",
              "      <th>Balanced Diet</th>\n",
              "      <th>...</th>\n",
              "      <th>Fatigue</th>\n",
              "      <th>Weight Loss</th>\n",
              "      <th>Shortness of Breath</th>\n",
              "      <th>Wheezing</th>\n",
              "      <th>Swallowing Difficulty</th>\n",
              "      <th>Clubbing of Finger Nails</th>\n",
              "      <th>Frequent Cold</th>\n",
              "      <th>Dry Cough</th>\n",
              "      <th>Snoring</th>\n",
              "      <th>Level</th>\n",
              "    </tr>\n",
              "  </thead>\n",
              "  <tbody>\n",
              "    <tr>\n",
              "      <th>0</th>\n",
              "      <td>0</td>\n",
              "      <td>33</td>\n",
              "      <td>1</td>\n",
              "      <td>2</td>\n",
              "      <td>4</td>\n",
              "      <td>5</td>\n",
              "      <td>4</td>\n",
              "      <td>3</td>\n",
              "      <td>2</td>\n",
              "      <td>2</td>\n",
              "      <td>...</td>\n",
              "      <td>3</td>\n",
              "      <td>4</td>\n",
              "      <td>2</td>\n",
              "      <td>2</td>\n",
              "      <td>3</td>\n",
              "      <td>1</td>\n",
              "      <td>2</td>\n",
              "      <td>3</td>\n",
              "      <td>4</td>\n",
              "      <td>0</td>\n",
              "    </tr>\n",
              "    <tr>\n",
              "      <th>1</th>\n",
              "      <td>1</td>\n",
              "      <td>17</td>\n",
              "      <td>1</td>\n",
              "      <td>3</td>\n",
              "      <td>1</td>\n",
              "      <td>5</td>\n",
              "      <td>3</td>\n",
              "      <td>4</td>\n",
              "      <td>2</td>\n",
              "      <td>2</td>\n",
              "      <td>...</td>\n",
              "      <td>1</td>\n",
              "      <td>3</td>\n",
              "      <td>7</td>\n",
              "      <td>8</td>\n",
              "      <td>6</td>\n",
              "      <td>2</td>\n",
              "      <td>1</td>\n",
              "      <td>7</td>\n",
              "      <td>2</td>\n",
              "      <td>1</td>\n",
              "    </tr>\n",
              "    <tr>\n",
              "      <th>2</th>\n",
              "      <td>2</td>\n",
              "      <td>35</td>\n",
              "      <td>1</td>\n",
              "      <td>4</td>\n",
              "      <td>5</td>\n",
              "      <td>6</td>\n",
              "      <td>5</td>\n",
              "      <td>5</td>\n",
              "      <td>4</td>\n",
              "      <td>6</td>\n",
              "      <td>...</td>\n",
              "      <td>8</td>\n",
              "      <td>7</td>\n",
              "      <td>9</td>\n",
              "      <td>2</td>\n",
              "      <td>1</td>\n",
              "      <td>4</td>\n",
              "      <td>6</td>\n",
              "      <td>7</td>\n",
              "      <td>2</td>\n",
              "      <td>2</td>\n",
              "    </tr>\n",
              "    <tr>\n",
              "      <th>3</th>\n",
              "      <td>3</td>\n",
              "      <td>37</td>\n",
              "      <td>1</td>\n",
              "      <td>7</td>\n",
              "      <td>7</td>\n",
              "      <td>7</td>\n",
              "      <td>7</td>\n",
              "      <td>6</td>\n",
              "      <td>7</td>\n",
              "      <td>7</td>\n",
              "      <td>...</td>\n",
              "      <td>4</td>\n",
              "      <td>2</td>\n",
              "      <td>3</td>\n",
              "      <td>1</td>\n",
              "      <td>4</td>\n",
              "      <td>5</td>\n",
              "      <td>6</td>\n",
              "      <td>7</td>\n",
              "      <td>5</td>\n",
              "      <td>2</td>\n",
              "    </tr>\n",
              "    <tr>\n",
              "      <th>4</th>\n",
              "      <td>4</td>\n",
              "      <td>46</td>\n",
              "      <td>1</td>\n",
              "      <td>6</td>\n",
              "      <td>8</td>\n",
              "      <td>7</td>\n",
              "      <td>7</td>\n",
              "      <td>7</td>\n",
              "      <td>6</td>\n",
              "      <td>7</td>\n",
              "      <td>...</td>\n",
              "      <td>3</td>\n",
              "      <td>2</td>\n",
              "      <td>4</td>\n",
              "      <td>1</td>\n",
              "      <td>4</td>\n",
              "      <td>2</td>\n",
              "      <td>4</td>\n",
              "      <td>2</td>\n",
              "      <td>3</td>\n",
              "      <td>2</td>\n",
              "    </tr>\n",
              "  </tbody>\n",
              "</table>\n",
              "<p>5 rows × 25 columns</p>\n",
              "</div>\n",
              "      <button class=\"colab-df-convert\" onclick=\"convertToInteractive('df-04ee7c2a-47d7-41a1-9131-cdb144857c38')\"\n",
              "              title=\"Convert this dataframe to an interactive table.\"\n",
              "              style=\"display:none;\">\n",
              "        \n",
              "  <svg xmlns=\"http://www.w3.org/2000/svg\" height=\"24px\"viewBox=\"0 0 24 24\"\n",
              "       width=\"24px\">\n",
              "    <path d=\"M0 0h24v24H0V0z\" fill=\"none\"/>\n",
              "    <path d=\"M18.56 5.44l.94 2.06.94-2.06 2.06-.94-2.06-.94-.94-2.06-.94 2.06-2.06.94zm-11 1L8.5 8.5l.94-2.06 2.06-.94-2.06-.94L8.5 2.5l-.94 2.06-2.06.94zm10 10l.94 2.06.94-2.06 2.06-.94-2.06-.94-.94-2.06-.94 2.06-2.06.94z\"/><path d=\"M17.41 7.96l-1.37-1.37c-.4-.4-.92-.59-1.43-.59-.52 0-1.04.2-1.43.59L10.3 9.45l-7.72 7.72c-.78.78-.78 2.05 0 2.83L4 21.41c.39.39.9.59 1.41.59.51 0 1.02-.2 1.41-.59l7.78-7.78 2.81-2.81c.8-.78.8-2.07 0-2.86zM5.41 20L4 18.59l7.72-7.72 1.47 1.35L5.41 20z\"/>\n",
              "  </svg>\n",
              "      </button>\n",
              "      \n",
              "  <style>\n",
              "    .colab-df-container {\n",
              "      display:flex;\n",
              "      flex-wrap:wrap;\n",
              "      gap: 12px;\n",
              "    }\n",
              "\n",
              "    .colab-df-convert {\n",
              "      background-color: #E8F0FE;\n",
              "      border: none;\n",
              "      border-radius: 50%;\n",
              "      cursor: pointer;\n",
              "      display: none;\n",
              "      fill: #1967D2;\n",
              "      height: 32px;\n",
              "      padding: 0 0 0 0;\n",
              "      width: 32px;\n",
              "    }\n",
              "\n",
              "    .colab-df-convert:hover {\n",
              "      background-color: #E2EBFA;\n",
              "      box-shadow: 0px 1px 2px rgba(60, 64, 67, 0.3), 0px 1px 3px 1px rgba(60, 64, 67, 0.15);\n",
              "      fill: #174EA6;\n",
              "    }\n",
              "\n",
              "    [theme=dark] .colab-df-convert {\n",
              "      background-color: #3B4455;\n",
              "      fill: #D2E3FC;\n",
              "    }\n",
              "\n",
              "    [theme=dark] .colab-df-convert:hover {\n",
              "      background-color: #434B5C;\n",
              "      box-shadow: 0px 1px 3px 1px rgba(0, 0, 0, 0.15);\n",
              "      filter: drop-shadow(0px 1px 2px rgba(0, 0, 0, 0.3));\n",
              "      fill: #FFFFFF;\n",
              "    }\n",
              "  </style>\n",
              "\n",
              "      <script>\n",
              "        const buttonEl =\n",
              "          document.querySelector('#df-04ee7c2a-47d7-41a1-9131-cdb144857c38 button.colab-df-convert');\n",
              "        buttonEl.style.display =\n",
              "          google.colab.kernel.accessAllowed ? 'block' : 'none';\n",
              "\n",
              "        async function convertToInteractive(key) {\n",
              "          const element = document.querySelector('#df-04ee7c2a-47d7-41a1-9131-cdb144857c38');\n",
              "          const dataTable =\n",
              "            await google.colab.kernel.invokeFunction('convertToInteractive',\n",
              "                                                     [key], {});\n",
              "          if (!dataTable) return;\n",
              "\n",
              "          const docLinkHtml = 'Like what you see? Visit the ' +\n",
              "            '<a target=\"_blank\" href=https://colab.research.google.com/notebooks/data_table.ipynb>data table notebook</a>'\n",
              "            + ' to learn more about interactive tables.';\n",
              "          element.innerHTML = '';\n",
              "          dataTable['output_type'] = 'display_data';\n",
              "          await google.colab.output.renderOutput(dataTable, element);\n",
              "          const docLink = document.createElement('div');\n",
              "          docLink.innerHTML = docLinkHtml;\n",
              "          element.appendChild(docLink);\n",
              "        }\n",
              "      </script>\n",
              "    </div>\n",
              "  </div>\n",
              "  "
            ]
          },
          "metadata": {},
          "execution_count": 24
        }
      ]
    },
    {
      "cell_type": "markdown",
      "source": [
        "## **ATRIBUTOS PREVISORES E ALVO**"
      ],
      "metadata": {
        "id": "EEhjVT2YGuHW"
      }
    },
    {
      "cell_type": "code",
      "source": [
        "df2.head()"
      ],
      "metadata": {
        "colab": {
          "base_uri": "https://localhost:8080/",
          "height": 352
        },
        "id": "rHQd4LQmG3Sl",
        "outputId": "8fc6380f-39ca-4945-858c-5f2e9c906533"
      },
      "execution_count": 25,
      "outputs": [
        {
          "output_type": "execute_result",
          "data": {
            "text/plain": [
              "   index  Age  Gender  Air Pollution  Alcohol use  Dust Allergy  \\\n",
              "0      0   33       1              2            4             5   \n",
              "1      1   17       1              3            1             5   \n",
              "2      2   35       1              4            5             6   \n",
              "3      3   37       1              7            7             7   \n",
              "4      4   46       1              6            8             7   \n",
              "\n",
              "   OccuPational Hazards  Genetic Risk  chronic Lung Disease  Balanced Diet  \\\n",
              "0                     4             3                     2              2   \n",
              "1                     3             4                     2              2   \n",
              "2                     5             5                     4              6   \n",
              "3                     7             6                     7              7   \n",
              "4                     7             7                     6              7   \n",
              "\n",
              "   ...  Fatigue  Weight Loss  Shortness of Breath  Wheezing  \\\n",
              "0  ...        3            4                    2         2   \n",
              "1  ...        1            3                    7         8   \n",
              "2  ...        8            7                    9         2   \n",
              "3  ...        4            2                    3         1   \n",
              "4  ...        3            2                    4         1   \n",
              "\n",
              "   Swallowing Difficulty  Clubbing of Finger Nails  Frequent Cold  Dry Cough  \\\n",
              "0                      3                         1              2          3   \n",
              "1                      6                         2              1          7   \n",
              "2                      1                         4              6          7   \n",
              "3                      4                         5              6          7   \n",
              "4                      4                         2              4          2   \n",
              "\n",
              "   Snoring  Level  \n",
              "0        4      0  \n",
              "1        2      1  \n",
              "2        2      2  \n",
              "3        5      2  \n",
              "4        3      2  \n",
              "\n",
              "[5 rows x 25 columns]"
            ],
            "text/html": [
              "\n",
              "  <div id=\"df-e284302c-55be-463b-b4cd-fde4d8f0c94d\">\n",
              "    <div class=\"colab-df-container\">\n",
              "      <div>\n",
              "<style scoped>\n",
              "    .dataframe tbody tr th:only-of-type {\n",
              "        vertical-align: middle;\n",
              "    }\n",
              "\n",
              "    .dataframe tbody tr th {\n",
              "        vertical-align: top;\n",
              "    }\n",
              "\n",
              "    .dataframe thead th {\n",
              "        text-align: right;\n",
              "    }\n",
              "</style>\n",
              "<table border=\"1\" class=\"dataframe\">\n",
              "  <thead>\n",
              "    <tr style=\"text-align: right;\">\n",
              "      <th></th>\n",
              "      <th>index</th>\n",
              "      <th>Age</th>\n",
              "      <th>Gender</th>\n",
              "      <th>Air Pollution</th>\n",
              "      <th>Alcohol use</th>\n",
              "      <th>Dust Allergy</th>\n",
              "      <th>OccuPational Hazards</th>\n",
              "      <th>Genetic Risk</th>\n",
              "      <th>chronic Lung Disease</th>\n",
              "      <th>Balanced Diet</th>\n",
              "      <th>...</th>\n",
              "      <th>Fatigue</th>\n",
              "      <th>Weight Loss</th>\n",
              "      <th>Shortness of Breath</th>\n",
              "      <th>Wheezing</th>\n",
              "      <th>Swallowing Difficulty</th>\n",
              "      <th>Clubbing of Finger Nails</th>\n",
              "      <th>Frequent Cold</th>\n",
              "      <th>Dry Cough</th>\n",
              "      <th>Snoring</th>\n",
              "      <th>Level</th>\n",
              "    </tr>\n",
              "  </thead>\n",
              "  <tbody>\n",
              "    <tr>\n",
              "      <th>0</th>\n",
              "      <td>0</td>\n",
              "      <td>33</td>\n",
              "      <td>1</td>\n",
              "      <td>2</td>\n",
              "      <td>4</td>\n",
              "      <td>5</td>\n",
              "      <td>4</td>\n",
              "      <td>3</td>\n",
              "      <td>2</td>\n",
              "      <td>2</td>\n",
              "      <td>...</td>\n",
              "      <td>3</td>\n",
              "      <td>4</td>\n",
              "      <td>2</td>\n",
              "      <td>2</td>\n",
              "      <td>3</td>\n",
              "      <td>1</td>\n",
              "      <td>2</td>\n",
              "      <td>3</td>\n",
              "      <td>4</td>\n",
              "      <td>0</td>\n",
              "    </tr>\n",
              "    <tr>\n",
              "      <th>1</th>\n",
              "      <td>1</td>\n",
              "      <td>17</td>\n",
              "      <td>1</td>\n",
              "      <td>3</td>\n",
              "      <td>1</td>\n",
              "      <td>5</td>\n",
              "      <td>3</td>\n",
              "      <td>4</td>\n",
              "      <td>2</td>\n",
              "      <td>2</td>\n",
              "      <td>...</td>\n",
              "      <td>1</td>\n",
              "      <td>3</td>\n",
              "      <td>7</td>\n",
              "      <td>8</td>\n",
              "      <td>6</td>\n",
              "      <td>2</td>\n",
              "      <td>1</td>\n",
              "      <td>7</td>\n",
              "      <td>2</td>\n",
              "      <td>1</td>\n",
              "    </tr>\n",
              "    <tr>\n",
              "      <th>2</th>\n",
              "      <td>2</td>\n",
              "      <td>35</td>\n",
              "      <td>1</td>\n",
              "      <td>4</td>\n",
              "      <td>5</td>\n",
              "      <td>6</td>\n",
              "      <td>5</td>\n",
              "      <td>5</td>\n",
              "      <td>4</td>\n",
              "      <td>6</td>\n",
              "      <td>...</td>\n",
              "      <td>8</td>\n",
              "      <td>7</td>\n",
              "      <td>9</td>\n",
              "      <td>2</td>\n",
              "      <td>1</td>\n",
              "      <td>4</td>\n",
              "      <td>6</td>\n",
              "      <td>7</td>\n",
              "      <td>2</td>\n",
              "      <td>2</td>\n",
              "    </tr>\n",
              "    <tr>\n",
              "      <th>3</th>\n",
              "      <td>3</td>\n",
              "      <td>37</td>\n",
              "      <td>1</td>\n",
              "      <td>7</td>\n",
              "      <td>7</td>\n",
              "      <td>7</td>\n",
              "      <td>7</td>\n",
              "      <td>6</td>\n",
              "      <td>7</td>\n",
              "      <td>7</td>\n",
              "      <td>...</td>\n",
              "      <td>4</td>\n",
              "      <td>2</td>\n",
              "      <td>3</td>\n",
              "      <td>1</td>\n",
              "      <td>4</td>\n",
              "      <td>5</td>\n",
              "      <td>6</td>\n",
              "      <td>7</td>\n",
              "      <td>5</td>\n",
              "      <td>2</td>\n",
              "    </tr>\n",
              "    <tr>\n",
              "      <th>4</th>\n",
              "      <td>4</td>\n",
              "      <td>46</td>\n",
              "      <td>1</td>\n",
              "      <td>6</td>\n",
              "      <td>8</td>\n",
              "      <td>7</td>\n",
              "      <td>7</td>\n",
              "      <td>7</td>\n",
              "      <td>6</td>\n",
              "      <td>7</td>\n",
              "      <td>...</td>\n",
              "      <td>3</td>\n",
              "      <td>2</td>\n",
              "      <td>4</td>\n",
              "      <td>1</td>\n",
              "      <td>4</td>\n",
              "      <td>2</td>\n",
              "      <td>4</td>\n",
              "      <td>2</td>\n",
              "      <td>3</td>\n",
              "      <td>2</td>\n",
              "    </tr>\n",
              "  </tbody>\n",
              "</table>\n",
              "<p>5 rows × 25 columns</p>\n",
              "</div>\n",
              "      <button class=\"colab-df-convert\" onclick=\"convertToInteractive('df-e284302c-55be-463b-b4cd-fde4d8f0c94d')\"\n",
              "              title=\"Convert this dataframe to an interactive table.\"\n",
              "              style=\"display:none;\">\n",
              "        \n",
              "  <svg xmlns=\"http://www.w3.org/2000/svg\" height=\"24px\"viewBox=\"0 0 24 24\"\n",
              "       width=\"24px\">\n",
              "    <path d=\"M0 0h24v24H0V0z\" fill=\"none\"/>\n",
              "    <path d=\"M18.56 5.44l.94 2.06.94-2.06 2.06-.94-2.06-.94-.94-2.06-.94 2.06-2.06.94zm-11 1L8.5 8.5l.94-2.06 2.06-.94-2.06-.94L8.5 2.5l-.94 2.06-2.06.94zm10 10l.94 2.06.94-2.06 2.06-.94-2.06-.94-.94-2.06-.94 2.06-2.06.94z\"/><path d=\"M17.41 7.96l-1.37-1.37c-.4-.4-.92-.59-1.43-.59-.52 0-1.04.2-1.43.59L10.3 9.45l-7.72 7.72c-.78.78-.78 2.05 0 2.83L4 21.41c.39.39.9.59 1.41.59.51 0 1.02-.2 1.41-.59l7.78-7.78 2.81-2.81c.8-.78.8-2.07 0-2.86zM5.41 20L4 18.59l7.72-7.72 1.47 1.35L5.41 20z\"/>\n",
              "  </svg>\n",
              "      </button>\n",
              "      \n",
              "  <style>\n",
              "    .colab-df-container {\n",
              "      display:flex;\n",
              "      flex-wrap:wrap;\n",
              "      gap: 12px;\n",
              "    }\n",
              "\n",
              "    .colab-df-convert {\n",
              "      background-color: #E8F0FE;\n",
              "      border: none;\n",
              "      border-radius: 50%;\n",
              "      cursor: pointer;\n",
              "      display: none;\n",
              "      fill: #1967D2;\n",
              "      height: 32px;\n",
              "      padding: 0 0 0 0;\n",
              "      width: 32px;\n",
              "    }\n",
              "\n",
              "    .colab-df-convert:hover {\n",
              "      background-color: #E2EBFA;\n",
              "      box-shadow: 0px 1px 2px rgba(60, 64, 67, 0.3), 0px 1px 3px 1px rgba(60, 64, 67, 0.15);\n",
              "      fill: #174EA6;\n",
              "    }\n",
              "\n",
              "    [theme=dark] .colab-df-convert {\n",
              "      background-color: #3B4455;\n",
              "      fill: #D2E3FC;\n",
              "    }\n",
              "\n",
              "    [theme=dark] .colab-df-convert:hover {\n",
              "      background-color: #434B5C;\n",
              "      box-shadow: 0px 1px 3px 1px rgba(0, 0, 0, 0.15);\n",
              "      filter: drop-shadow(0px 1px 2px rgba(0, 0, 0, 0.3));\n",
              "      fill: #FFFFFF;\n",
              "    }\n",
              "  </style>\n",
              "\n",
              "      <script>\n",
              "        const buttonEl =\n",
              "          document.querySelector('#df-e284302c-55be-463b-b4cd-fde4d8f0c94d button.colab-df-convert');\n",
              "        buttonEl.style.display =\n",
              "          google.colab.kernel.accessAllowed ? 'block' : 'none';\n",
              "\n",
              "        async function convertToInteractive(key) {\n",
              "          const element = document.querySelector('#df-e284302c-55be-463b-b4cd-fde4d8f0c94d');\n",
              "          const dataTable =\n",
              "            await google.colab.kernel.invokeFunction('convertToInteractive',\n",
              "                                                     [key], {});\n",
              "          if (!dataTable) return;\n",
              "\n",
              "          const docLinkHtml = 'Like what you see? Visit the ' +\n",
              "            '<a target=\"_blank\" href=https://colab.research.google.com/notebooks/data_table.ipynb>data table notebook</a>'\n",
              "            + ' to learn more about interactive tables.';\n",
              "          element.innerHTML = '';\n",
              "          dataTable['output_type'] = 'display_data';\n",
              "          await google.colab.output.renderOutput(dataTable, element);\n",
              "          const docLink = document.createElement('div');\n",
              "          docLink.innerHTML = docLinkHtml;\n",
              "          element.appendChild(docLink);\n",
              "        }\n",
              "      </script>\n",
              "    </div>\n",
              "  </div>\n",
              "  "
            ]
          },
          "metadata": {},
          "execution_count": 25
        }
      ]
    },
    {
      "cell_type": "code",
      "source": [
        "previsores = df2.iloc[:, 0:24].values\n",
        "previsores"
      ],
      "metadata": {
        "colab": {
          "base_uri": "https://localhost:8080/"
        },
        "id": "k0q3QmMQG6ON",
        "outputId": "c8ec52dc-f38d-48b3-bbda-129395b50fa5"
      },
      "execution_count": 26,
      "outputs": [
        {
          "output_type": "execute_result",
          "data": {
            "text/plain": [
              "array([[  0,  33,   1, ...,   2,   3,   4],\n",
              "       [  1,  17,   1, ...,   1,   7,   2],\n",
              "       [  2,  35,   1, ...,   6,   7,   2],\n",
              "       ...,\n",
              "       [997,  25,   2, ...,   6,   7,   2],\n",
              "       [998,  18,   2, ...,   4,   2,   3],\n",
              "       [999,  47,   1, ...,   6,   7,   2]])"
            ]
          },
          "metadata": {},
          "execution_count": 26
        }
      ]
    },
    {
      "cell_type": "code",
      "source": [
        "previsores.shape"
      ],
      "metadata": {
        "colab": {
          "base_uri": "https://localhost:8080/"
        },
        "id": "thf-D0hFHAhU",
        "outputId": "01d5240a-9502-4693-90b9-b19984e9d288"
      },
      "execution_count": 27,
      "outputs": [
        {
          "output_type": "execute_result",
          "data": {
            "text/plain": [
              "(1000, 24)"
            ]
          },
          "metadata": {},
          "execution_count": 27
        }
      ]
    },
    {
      "cell_type": "code",
      "source": [
        "alvo = df2.iloc[:, 24].values\n",
        "alvo"
      ],
      "metadata": {
        "colab": {
          "base_uri": "https://localhost:8080/"
        },
        "id": "zX0sfIQsHBwq",
        "outputId": "b3fe46f0-bacd-47f6-c64d-ea137c73356d"
      },
      "execution_count": 28,
      "outputs": [
        {
          "output_type": "execute_result",
          "data": {
            "text/plain": [
              "array([0, 1, 2, 2, 2, 2, 0, 0, 1, 1, 2, 2, 1, 2, 0, 1, 1, 2, 2, 1, 2, 2,\n",
              "       2, 2, 2, 1, 1, 1, 2, 1, 2, 2, 1, 0, 0, 1, 0, 0, 0, 0, 0, 0, 0, 0,\n",
              "       0, 0, 2, 0, 0, 0, 0, 0, 0, 0, 0, 0, 0, 2, 0, 0, 0, 0, 0, 1, 1, 1,\n",
              "       1, 1, 2, 1, 1, 1, 1, 1, 1, 1, 1, 1, 1, 2, 1, 1, 1, 1, 1, 1, 1, 2,\n",
              "       2, 2, 1, 2, 2, 2, 2, 2, 2, 2, 2, 2, 2, 1, 2, 2, 2, 2, 2, 2, 2, 2,\n",
              "       2, 2, 0, 1, 2, 2, 2, 0, 0, 1, 1, 2, 2, 1, 2, 0, 1, 1, 2, 2, 1, 2,\n",
              "       2, 2, 2, 1, 1, 1, 1, 2, 1, 2, 2, 1, 0, 0, 2, 0, 0, 0, 0, 0, 0, 0,\n",
              "       0, 0, 0, 2, 0, 0, 0, 0, 0, 0, 0, 0, 0, 0, 1, 0, 0, 0, 0, 0, 1, 1,\n",
              "       1, 1, 1, 0, 1, 1, 1, 1, 1, 1, 1, 1, 1, 1, 0, 1, 1, 1, 1, 1, 1, 1,\n",
              "       2, 2, 2, 0, 2, 2, 2, 2, 2, 2, 2, 2, 2, 2, 0, 2, 2, 2, 2, 2, 2, 2,\n",
              "       2, 2, 2, 1, 0, 2, 2, 2, 0, 0, 1, 1, 2, 2, 1, 0, 0, 1, 1, 2, 2, 1,\n",
              "       2, 2, 2, 2, 0, 1, 1, 1, 2, 1, 2, 2, 1, 0, 0, 0, 0, 0, 0, 0, 0, 0,\n",
              "       0, 0, 0, 0, 0, 0, 0, 0, 0, 0, 0, 0, 0, 0, 0, 0, 0, 0, 0, 0, 0, 1,\n",
              "       1, 1, 1, 1, 0, 1, 1, 1, 1, 1, 1, 1, 1, 1, 1, 0, 1, 1, 1, 1, 1, 1,\n",
              "       1, 2, 2, 2, 0, 2, 2, 2, 2, 2, 2, 2, 2, 2, 2, 0, 2, 2, 2, 2, 2, 2,\n",
              "       2, 2, 2, 2, 1, 0, 2, 2, 2, 0, 0, 1, 1, 2, 2, 1, 0, 0, 1, 1, 2, 2,\n",
              "       1, 2, 2, 2, 2, 0, 1, 1, 1, 2, 1, 2, 2, 1, 0, 0, 0, 0, 0, 0, 0, 0,\n",
              "       0, 0, 0, 0, 0, 0, 0, 0, 0, 0, 0, 0, 0, 0, 0, 0, 0, 0, 0, 0, 0, 0,\n",
              "       1, 1, 1, 1, 1, 0, 1, 1, 1, 1, 1, 1, 1, 1, 1, 1, 0, 1, 1, 1, 1, 1,\n",
              "       1, 1, 2, 2, 2, 0, 2, 2, 2, 2, 2, 2, 2, 2, 2, 2, 0, 2, 2, 2, 2, 2,\n",
              "       2, 2, 2, 2, 2, 2, 0, 2, 2, 2, 0, 0, 1, 1, 2, 2, 1, 0, 0, 1, 1, 2,\n",
              "       2, 1, 2, 2, 2, 2, 0, 1, 1, 1, 2, 1, 2, 2, 1, 0, 0, 1, 0, 0, 0, 0,\n",
              "       0, 0, 0, 0, 0, 0, 1, 0, 0, 0, 0, 0, 0, 0, 0, 0, 0, 1, 0, 0, 0, 0,\n",
              "       0, 1, 1, 1, 1, 1, 1, 1, 1, 1, 1, 1, 1, 1, 1, 1, 1, 1, 1, 1, 1, 1,\n",
              "       1, 1, 1, 2, 2, 2, 1, 2, 2, 2, 2, 2, 2, 2, 2, 2, 2, 1, 2, 2, 2, 2,\n",
              "       2, 2, 2, 2, 2, 2, 2, 1, 2, 2, 2, 0, 0, 1, 1, 2, 2, 1, 1, 0, 1, 1,\n",
              "       2, 2, 1, 2, 2, 2, 2, 1, 1, 1, 1, 2, 1, 2, 2, 1, 0, 0, 1, 0, 0, 0,\n",
              "       0, 0, 0, 0, 0, 0, 0, 1, 0, 0, 0, 0, 0, 0, 0, 0, 0, 0, 1, 0, 0, 0,\n",
              "       0, 0, 1, 1, 1, 1, 1, 1, 1, 1, 1, 1, 1, 1, 1, 1, 1, 1, 1, 1, 1, 1,\n",
              "       1, 1, 1, 1, 2, 2, 2, 1, 2, 2, 2, 2, 2, 2, 2, 2, 2, 2, 1, 2, 2, 2,\n",
              "       2, 2, 2, 2, 2, 2, 2, 1, 1, 2, 2, 2, 0, 0, 1, 1, 2, 2, 1, 1, 0, 1,\n",
              "       1, 2, 2, 1, 2, 2, 2, 2, 1, 1, 1, 1, 2, 1, 2, 2, 1, 0, 0, 1, 0, 0,\n",
              "       0, 0, 0, 0, 0, 0, 0, 0, 1, 0, 0, 0, 0, 0, 0, 0, 0, 0, 0, 2, 0, 0,\n",
              "       0, 0, 0, 1, 1, 1, 1, 1, 2, 1, 1, 1, 1, 1, 1, 1, 1, 1, 1, 2, 1, 1,\n",
              "       1, 1, 1, 1, 1, 2, 2, 2, 2, 2, 2, 2, 2, 2, 2, 2, 2, 2, 2, 2, 2, 2,\n",
              "       2, 2, 2, 2, 2, 2, 2, 2, 0, 2, 2, 2, 2, 0, 0, 1, 1, 2, 2, 1, 2, 0,\n",
              "       1, 1, 2, 2, 1, 2, 2, 2, 2, 2, 1, 1, 1, 2, 1, 2, 2, 1, 0, 0, 2, 0,\n",
              "       0, 0, 0, 0, 0, 0, 0, 0, 0, 2, 0, 0, 0, 0, 0, 0, 0, 0, 0, 0, 2, 0,\n",
              "       0, 0, 0, 0, 1, 1, 1, 1, 1, 2, 1, 1, 1, 1, 1, 1, 1, 1, 1, 1, 2, 1,\n",
              "       1, 1, 1, 1, 1, 1, 2, 2, 2, 2, 2, 2, 2, 2, 2, 2, 2, 2, 2, 2, 2, 2,\n",
              "       2, 2, 2, 2, 2, 2, 2, 2, 2, 1, 2, 2, 2, 2, 0, 0, 1, 1, 2, 2, 1, 2,\n",
              "       0, 1, 1, 2, 2, 1, 2, 2, 2, 2, 2, 1, 1, 1, 2, 1, 2, 2, 1, 0, 0, 2,\n",
              "       0, 0, 0, 0, 0, 0, 0, 0, 0, 0, 2, 0, 0, 0, 0, 0, 0, 0, 0, 0, 0, 2,\n",
              "       0, 0, 0, 0, 0, 1, 1, 1, 1, 1, 2, 1, 1, 1, 1, 1, 1, 1, 1, 1, 1, 2,\n",
              "       1, 1, 1, 1, 1, 1, 1, 2, 0, 0, 2, 0, 2, 2, 2, 1, 1, 2, 2, 2, 2, 2,\n",
              "       2, 2, 2, 2, 2, 2, 2, 2, 2, 2])"
            ]
          },
          "metadata": {},
          "execution_count": 28
        }
      ]
    },
    {
      "cell_type": "code",
      "source": [
        "alvo.shape"
      ],
      "metadata": {
        "colab": {
          "base_uri": "https://localhost:8080/"
        },
        "id": "Wgx9CGrhHImH",
        "outputId": "0d1880b9-7efd-4b3c-d7e5-614c06394b20"
      },
      "execution_count": 29,
      "outputs": [
        {
          "output_type": "execute_result",
          "data": {
            "text/plain": [
              "(1000,)"
            ]
          },
          "metadata": {},
          "execution_count": 29
        }
      ]
    },
    {
      "cell_type": "markdown",
      "source": [
        "## **Análise das escalas dos atributos (Escalonamento)**"
      ],
      "metadata": {
        "id": "ugREjZjWHMHd"
      }
    },
    {
      "cell_type": "markdown",
      "source": [
        "Padronização (utiliza a média e o desvio padrão como referência)."
      ],
      "metadata": {
        "id": "qfTNEU9VHP7G"
      }
    },
    {
      "cell_type": "code",
      "source": [
        "df2.describe()"
      ],
      "metadata": {
        "colab": {
          "base_uri": "https://localhost:8080/",
          "height": 429
        },
        "id": "4pFMxxL5HNGJ",
        "outputId": "9bb2415b-3568-441e-b888-bf9005a97bc2"
      },
      "execution_count": 30,
      "outputs": [
        {
          "output_type": "execute_result",
          "data": {
            "text/plain": [
              "             index          Age       Gender  Air Pollution  Alcohol use  \\\n",
              "count  1000.000000  1000.000000  1000.000000      1000.0000  1000.000000   \n",
              "mean    499.500000    37.174000     1.402000         3.8400     4.563000   \n",
              "std     288.819436    12.005493     0.490547         2.0304     2.620477   \n",
              "min       0.000000    14.000000     1.000000         1.0000     1.000000   \n",
              "25%     249.750000    27.750000     1.000000         2.0000     2.000000   \n",
              "50%     499.500000    36.000000     1.000000         3.0000     5.000000   \n",
              "75%     749.250000    45.000000     2.000000         6.0000     7.000000   \n",
              "max     999.000000    73.000000     2.000000         8.0000     8.000000   \n",
              "\n",
              "       Dust Allergy  OccuPational Hazards  Genetic Risk  chronic Lung Disease  \\\n",
              "count   1000.000000           1000.000000   1000.000000           1000.000000   \n",
              "mean       5.165000              4.840000      4.580000              4.380000   \n",
              "std        1.980833              2.107805      2.126999              1.848518   \n",
              "min        1.000000              1.000000      1.000000              1.000000   \n",
              "25%        4.000000              3.000000      2.000000              3.000000   \n",
              "50%        6.000000              5.000000      5.000000              4.000000   \n",
              "75%        7.000000              7.000000      7.000000              6.000000   \n",
              "max        8.000000              8.000000      7.000000              7.000000   \n",
              "\n",
              "       Balanced Diet  ...      Fatigue  Weight Loss  Shortness of Breath  \\\n",
              "count    1000.000000  ...  1000.000000  1000.000000          1000.000000   \n",
              "mean        4.491000  ...     3.856000     3.855000             4.240000   \n",
              "std         2.135528  ...     2.244616     2.206546             2.285087   \n",
              "min         1.000000  ...     1.000000     1.000000             1.000000   \n",
              "25%         2.000000  ...     2.000000     2.000000             2.000000   \n",
              "50%         4.000000  ...     3.000000     3.000000             4.000000   \n",
              "75%         7.000000  ...     5.000000     6.000000             6.000000   \n",
              "max         7.000000  ...     9.000000     8.000000             9.000000   \n",
              "\n",
              "          Wheezing  Swallowing Difficulty  Clubbing of Finger Nails  \\\n",
              "count  1000.000000            1000.000000               1000.000000   \n",
              "mean      3.777000               3.746000                  3.923000   \n",
              "std       2.041921               2.270383                  2.388048   \n",
              "min       1.000000               1.000000                  1.000000   \n",
              "25%       2.000000               2.000000                  2.000000   \n",
              "50%       4.000000               4.000000                  4.000000   \n",
              "75%       5.000000               5.000000                  5.000000   \n",
              "max       8.000000               8.000000                  9.000000   \n",
              "\n",
              "       Frequent Cold    Dry Cough      Snoring        Level  \n",
              "count    1000.000000  1000.000000  1000.000000  1000.000000  \n",
              "mean        3.536000     3.853000     2.926000     1.062000  \n",
              "std         1.832502     2.039007     1.474686     0.815365  \n",
              "min         1.000000     1.000000     1.000000     0.000000  \n",
              "25%         2.000000     2.000000     2.000000     0.000000  \n",
              "50%         3.000000     4.000000     3.000000     1.000000  \n",
              "75%         5.000000     6.000000     4.000000     2.000000  \n",
              "max         7.000000     7.000000     7.000000     2.000000  \n",
              "\n",
              "[8 rows x 25 columns]"
            ],
            "text/html": [
              "\n",
              "  <div id=\"df-f8d75d12-00aa-4446-be0c-1ec1e052b175\">\n",
              "    <div class=\"colab-df-container\">\n",
              "      <div>\n",
              "<style scoped>\n",
              "    .dataframe tbody tr th:only-of-type {\n",
              "        vertical-align: middle;\n",
              "    }\n",
              "\n",
              "    .dataframe tbody tr th {\n",
              "        vertical-align: top;\n",
              "    }\n",
              "\n",
              "    .dataframe thead th {\n",
              "        text-align: right;\n",
              "    }\n",
              "</style>\n",
              "<table border=\"1\" class=\"dataframe\">\n",
              "  <thead>\n",
              "    <tr style=\"text-align: right;\">\n",
              "      <th></th>\n",
              "      <th>index</th>\n",
              "      <th>Age</th>\n",
              "      <th>Gender</th>\n",
              "      <th>Air Pollution</th>\n",
              "      <th>Alcohol use</th>\n",
              "      <th>Dust Allergy</th>\n",
              "      <th>OccuPational Hazards</th>\n",
              "      <th>Genetic Risk</th>\n",
              "      <th>chronic Lung Disease</th>\n",
              "      <th>Balanced Diet</th>\n",
              "      <th>...</th>\n",
              "      <th>Fatigue</th>\n",
              "      <th>Weight Loss</th>\n",
              "      <th>Shortness of Breath</th>\n",
              "      <th>Wheezing</th>\n",
              "      <th>Swallowing Difficulty</th>\n",
              "      <th>Clubbing of Finger Nails</th>\n",
              "      <th>Frequent Cold</th>\n",
              "      <th>Dry Cough</th>\n",
              "      <th>Snoring</th>\n",
              "      <th>Level</th>\n",
              "    </tr>\n",
              "  </thead>\n",
              "  <tbody>\n",
              "    <tr>\n",
              "      <th>count</th>\n",
              "      <td>1000.000000</td>\n",
              "      <td>1000.000000</td>\n",
              "      <td>1000.000000</td>\n",
              "      <td>1000.0000</td>\n",
              "      <td>1000.000000</td>\n",
              "      <td>1000.000000</td>\n",
              "      <td>1000.000000</td>\n",
              "      <td>1000.000000</td>\n",
              "      <td>1000.000000</td>\n",
              "      <td>1000.000000</td>\n",
              "      <td>...</td>\n",
              "      <td>1000.000000</td>\n",
              "      <td>1000.000000</td>\n",
              "      <td>1000.000000</td>\n",
              "      <td>1000.000000</td>\n",
              "      <td>1000.000000</td>\n",
              "      <td>1000.000000</td>\n",
              "      <td>1000.000000</td>\n",
              "      <td>1000.000000</td>\n",
              "      <td>1000.000000</td>\n",
              "      <td>1000.000000</td>\n",
              "    </tr>\n",
              "    <tr>\n",
              "      <th>mean</th>\n",
              "      <td>499.500000</td>\n",
              "      <td>37.174000</td>\n",
              "      <td>1.402000</td>\n",
              "      <td>3.8400</td>\n",
              "      <td>4.563000</td>\n",
              "      <td>5.165000</td>\n",
              "      <td>4.840000</td>\n",
              "      <td>4.580000</td>\n",
              "      <td>4.380000</td>\n",
              "      <td>4.491000</td>\n",
              "      <td>...</td>\n",
              "      <td>3.856000</td>\n",
              "      <td>3.855000</td>\n",
              "      <td>4.240000</td>\n",
              "      <td>3.777000</td>\n",
              "      <td>3.746000</td>\n",
              "      <td>3.923000</td>\n",
              "      <td>3.536000</td>\n",
              "      <td>3.853000</td>\n",
              "      <td>2.926000</td>\n",
              "      <td>1.062000</td>\n",
              "    </tr>\n",
              "    <tr>\n",
              "      <th>std</th>\n",
              "      <td>288.819436</td>\n",
              "      <td>12.005493</td>\n",
              "      <td>0.490547</td>\n",
              "      <td>2.0304</td>\n",
              "      <td>2.620477</td>\n",
              "      <td>1.980833</td>\n",
              "      <td>2.107805</td>\n",
              "      <td>2.126999</td>\n",
              "      <td>1.848518</td>\n",
              "      <td>2.135528</td>\n",
              "      <td>...</td>\n",
              "      <td>2.244616</td>\n",
              "      <td>2.206546</td>\n",
              "      <td>2.285087</td>\n",
              "      <td>2.041921</td>\n",
              "      <td>2.270383</td>\n",
              "      <td>2.388048</td>\n",
              "      <td>1.832502</td>\n",
              "      <td>2.039007</td>\n",
              "      <td>1.474686</td>\n",
              "      <td>0.815365</td>\n",
              "    </tr>\n",
              "    <tr>\n",
              "      <th>min</th>\n",
              "      <td>0.000000</td>\n",
              "      <td>14.000000</td>\n",
              "      <td>1.000000</td>\n",
              "      <td>1.0000</td>\n",
              "      <td>1.000000</td>\n",
              "      <td>1.000000</td>\n",
              "      <td>1.000000</td>\n",
              "      <td>1.000000</td>\n",
              "      <td>1.000000</td>\n",
              "      <td>1.000000</td>\n",
              "      <td>...</td>\n",
              "      <td>1.000000</td>\n",
              "      <td>1.000000</td>\n",
              "      <td>1.000000</td>\n",
              "      <td>1.000000</td>\n",
              "      <td>1.000000</td>\n",
              "      <td>1.000000</td>\n",
              "      <td>1.000000</td>\n",
              "      <td>1.000000</td>\n",
              "      <td>1.000000</td>\n",
              "      <td>0.000000</td>\n",
              "    </tr>\n",
              "    <tr>\n",
              "      <th>25%</th>\n",
              "      <td>249.750000</td>\n",
              "      <td>27.750000</td>\n",
              "      <td>1.000000</td>\n",
              "      <td>2.0000</td>\n",
              "      <td>2.000000</td>\n",
              "      <td>4.000000</td>\n",
              "      <td>3.000000</td>\n",
              "      <td>2.000000</td>\n",
              "      <td>3.000000</td>\n",
              "      <td>2.000000</td>\n",
              "      <td>...</td>\n",
              "      <td>2.000000</td>\n",
              "      <td>2.000000</td>\n",
              "      <td>2.000000</td>\n",
              "      <td>2.000000</td>\n",
              "      <td>2.000000</td>\n",
              "      <td>2.000000</td>\n",
              "      <td>2.000000</td>\n",
              "      <td>2.000000</td>\n",
              "      <td>2.000000</td>\n",
              "      <td>0.000000</td>\n",
              "    </tr>\n",
              "    <tr>\n",
              "      <th>50%</th>\n",
              "      <td>499.500000</td>\n",
              "      <td>36.000000</td>\n",
              "      <td>1.000000</td>\n",
              "      <td>3.0000</td>\n",
              "      <td>5.000000</td>\n",
              "      <td>6.000000</td>\n",
              "      <td>5.000000</td>\n",
              "      <td>5.000000</td>\n",
              "      <td>4.000000</td>\n",
              "      <td>4.000000</td>\n",
              "      <td>...</td>\n",
              "      <td>3.000000</td>\n",
              "      <td>3.000000</td>\n",
              "      <td>4.000000</td>\n",
              "      <td>4.000000</td>\n",
              "      <td>4.000000</td>\n",
              "      <td>4.000000</td>\n",
              "      <td>3.000000</td>\n",
              "      <td>4.000000</td>\n",
              "      <td>3.000000</td>\n",
              "      <td>1.000000</td>\n",
              "    </tr>\n",
              "    <tr>\n",
              "      <th>75%</th>\n",
              "      <td>749.250000</td>\n",
              "      <td>45.000000</td>\n",
              "      <td>2.000000</td>\n",
              "      <td>6.0000</td>\n",
              "      <td>7.000000</td>\n",
              "      <td>7.000000</td>\n",
              "      <td>7.000000</td>\n",
              "      <td>7.000000</td>\n",
              "      <td>6.000000</td>\n",
              "      <td>7.000000</td>\n",
              "      <td>...</td>\n",
              "      <td>5.000000</td>\n",
              "      <td>6.000000</td>\n",
              "      <td>6.000000</td>\n",
              "      <td>5.000000</td>\n",
              "      <td>5.000000</td>\n",
              "      <td>5.000000</td>\n",
              "      <td>5.000000</td>\n",
              "      <td>6.000000</td>\n",
              "      <td>4.000000</td>\n",
              "      <td>2.000000</td>\n",
              "    </tr>\n",
              "    <tr>\n",
              "      <th>max</th>\n",
              "      <td>999.000000</td>\n",
              "      <td>73.000000</td>\n",
              "      <td>2.000000</td>\n",
              "      <td>8.0000</td>\n",
              "      <td>8.000000</td>\n",
              "      <td>8.000000</td>\n",
              "      <td>8.000000</td>\n",
              "      <td>7.000000</td>\n",
              "      <td>7.000000</td>\n",
              "      <td>7.000000</td>\n",
              "      <td>...</td>\n",
              "      <td>9.000000</td>\n",
              "      <td>8.000000</td>\n",
              "      <td>9.000000</td>\n",
              "      <td>8.000000</td>\n",
              "      <td>8.000000</td>\n",
              "      <td>9.000000</td>\n",
              "      <td>7.000000</td>\n",
              "      <td>7.000000</td>\n",
              "      <td>7.000000</td>\n",
              "      <td>2.000000</td>\n",
              "    </tr>\n",
              "  </tbody>\n",
              "</table>\n",
              "<p>8 rows × 25 columns</p>\n",
              "</div>\n",
              "      <button class=\"colab-df-convert\" onclick=\"convertToInteractive('df-f8d75d12-00aa-4446-be0c-1ec1e052b175')\"\n",
              "              title=\"Convert this dataframe to an interactive table.\"\n",
              "              style=\"display:none;\">\n",
              "        \n",
              "  <svg xmlns=\"http://www.w3.org/2000/svg\" height=\"24px\"viewBox=\"0 0 24 24\"\n",
              "       width=\"24px\">\n",
              "    <path d=\"M0 0h24v24H0V0z\" fill=\"none\"/>\n",
              "    <path d=\"M18.56 5.44l.94 2.06.94-2.06 2.06-.94-2.06-.94-.94-2.06-.94 2.06-2.06.94zm-11 1L8.5 8.5l.94-2.06 2.06-.94-2.06-.94L8.5 2.5l-.94 2.06-2.06.94zm10 10l.94 2.06.94-2.06 2.06-.94-2.06-.94-.94-2.06-.94 2.06-2.06.94z\"/><path d=\"M17.41 7.96l-1.37-1.37c-.4-.4-.92-.59-1.43-.59-.52 0-1.04.2-1.43.59L10.3 9.45l-7.72 7.72c-.78.78-.78 2.05 0 2.83L4 21.41c.39.39.9.59 1.41.59.51 0 1.02-.2 1.41-.59l7.78-7.78 2.81-2.81c.8-.78.8-2.07 0-2.86zM5.41 20L4 18.59l7.72-7.72 1.47 1.35L5.41 20z\"/>\n",
              "  </svg>\n",
              "      </button>\n",
              "      \n",
              "  <style>\n",
              "    .colab-df-container {\n",
              "      display:flex;\n",
              "      flex-wrap:wrap;\n",
              "      gap: 12px;\n",
              "    }\n",
              "\n",
              "    .colab-df-convert {\n",
              "      background-color: #E8F0FE;\n",
              "      border: none;\n",
              "      border-radius: 50%;\n",
              "      cursor: pointer;\n",
              "      display: none;\n",
              "      fill: #1967D2;\n",
              "      height: 32px;\n",
              "      padding: 0 0 0 0;\n",
              "      width: 32px;\n",
              "    }\n",
              "\n",
              "    .colab-df-convert:hover {\n",
              "      background-color: #E2EBFA;\n",
              "      box-shadow: 0px 1px 2px rgba(60, 64, 67, 0.3), 0px 1px 3px 1px rgba(60, 64, 67, 0.15);\n",
              "      fill: #174EA6;\n",
              "    }\n",
              "\n",
              "    [theme=dark] .colab-df-convert {\n",
              "      background-color: #3B4455;\n",
              "      fill: #D2E3FC;\n",
              "    }\n",
              "\n",
              "    [theme=dark] .colab-df-convert:hover {\n",
              "      background-color: #434B5C;\n",
              "      box-shadow: 0px 1px 3px 1px rgba(0, 0, 0, 0.15);\n",
              "      filter: drop-shadow(0px 1px 2px rgba(0, 0, 0, 0.3));\n",
              "      fill: #FFFFFF;\n",
              "    }\n",
              "  </style>\n",
              "\n",
              "      <script>\n",
              "        const buttonEl =\n",
              "          document.querySelector('#df-f8d75d12-00aa-4446-be0c-1ec1e052b175 button.colab-df-convert');\n",
              "        buttonEl.style.display =\n",
              "          google.colab.kernel.accessAllowed ? 'block' : 'none';\n",
              "\n",
              "        async function convertToInteractive(key) {\n",
              "          const element = document.querySelector('#df-f8d75d12-00aa-4446-be0c-1ec1e052b175');\n",
              "          const dataTable =\n",
              "            await google.colab.kernel.invokeFunction('convertToInteractive',\n",
              "                                                     [key], {});\n",
              "          if (!dataTable) return;\n",
              "\n",
              "          const docLinkHtml = 'Like what you see? Visit the ' +\n",
              "            '<a target=\"_blank\" href=https://colab.research.google.com/notebooks/data_table.ipynb>data table notebook</a>'\n",
              "            + ' to learn more about interactive tables.';\n",
              "          element.innerHTML = '';\n",
              "          dataTable['output_type'] = 'display_data';\n",
              "          await google.colab.output.renderOutput(dataTable, element);\n",
              "          const docLink = document.createElement('div');\n",
              "          docLink.innerHTML = docLinkHtml;\n",
              "          element.appendChild(docLink);\n",
              "        }\n",
              "      </script>\n",
              "    </div>\n",
              "  </div>\n",
              "  "
            ]
          },
          "metadata": {},
          "execution_count": 30
        }
      ]
    },
    {
      "cell_type": "code",
      "source": [
        "from sklearn.preprocessing import StandardScaler"
      ],
      "metadata": {
        "id": "br2Zz0C7HTog"
      },
      "execution_count": 31,
      "outputs": []
    },
    {
      "cell_type": "code",
      "source": [
        "previsores_esc = StandardScaler().fit_transform(previsores)"
      ],
      "metadata": {
        "id": "79pep5WyHVuf"
      },
      "execution_count": 32,
      "outputs": []
    },
    {
      "cell_type": "code",
      "source": [
        "previsores_esc"
      ],
      "metadata": {
        "colab": {
          "base_uri": "https://localhost:8080/"
        },
        "id": "bxpOaKJIHYNK",
        "outputId": "95e32ada-e601-4321-e127-78dfb6b0b00d"
      },
      "execution_count": 33,
      "outputs": [
        {
          "output_type": "execute_result",
          "data": {
            "text/plain": [
              "array([[-1.73031962, -0.34784816, -0.81990292, ..., -0.83861787,\n",
              "        -0.41855027,  0.72865507],\n",
              "       [-1.72685552, -1.68123833, -0.81990292, ..., -1.38459305,\n",
              "         1.54417079, -0.6282445 ],\n",
              "       [-1.72339142, -0.18117439, -0.81990292, ...,  1.34528283,\n",
              "         1.54417079, -0.6282445 ],\n",
              "       ...,\n",
              "       [ 1.72339142, -1.01454325,  1.21965659, ...,  1.34528283,\n",
              "         1.54417079, -0.6282445 ],\n",
              "       [ 1.72685552, -1.59790145,  1.21965659, ...,  0.25333248,\n",
              "        -0.90923053,  0.05020528],\n",
              "       [ 1.73031962,  0.81886824, -0.81990292, ...,  1.34528283,\n",
              "         1.54417079, -0.6282445 ]])"
            ]
          },
          "metadata": {},
          "execution_count": 33
        }
      ]
    },
    {
      "cell_type": "code",
      "source": [
        "previsoresdf = pd.DataFrame(previsores_esc)\n",
        "previsoresdf"
      ],
      "metadata": {
        "colab": {
          "base_uri": "https://localhost:8080/",
          "height": 488
        },
        "id": "MLZBNfDdHaPr",
        "outputId": "95a988e8-1832-4001-f87a-61add9535e8a"
      },
      "execution_count": 34,
      "outputs": [
        {
          "output_type": "execute_result",
          "data": {
            "text/plain": [
              "           0         1         2         3         4         5         6   \\\n",
              "0   -1.730320 -0.347848 -0.819903 -0.906679 -0.214954 -0.083340 -0.398718   \n",
              "1   -1.726856 -1.681238 -0.819903 -0.413919 -1.360357 -0.083340 -0.873383   \n",
              "2   -1.723391 -0.181174 -0.819903  0.078842  0.166847  0.421751  0.075946   \n",
              "3   -1.719927 -0.014501 -0.819903  1.557123  0.930449  0.926842  1.025275   \n",
              "4   -1.716463  0.735531 -0.819903  1.064362  1.312250  0.926842  1.025275   \n",
              "..        ...       ...       ...       ...       ...       ...       ...   \n",
              "995  1.716463  0.568858 -0.819903  1.064362  0.930449  0.926842  1.025275   \n",
              "996  1.719927 -0.014501  1.219657  1.064362  1.312250  0.926842  1.025275   \n",
              "997  1.723391 -1.014543  1.219657  0.078842  0.166847  0.421751  0.075946   \n",
              "998  1.726856 -1.597901  1.219657  1.064362  1.312250  0.926842  1.025275   \n",
              "999  1.730320  0.818868 -0.819903  1.064362  0.166847  0.421751  0.075946   \n",
              "\n",
              "           7         8         9   ...        14        15        16  \\\n",
              "0   -0.743202 -1.288162 -1.167040  ... -0.353971 -0.381548  0.065746   \n",
              "1   -0.272821 -1.288162 -1.167040  ... -0.766045 -1.273014 -0.387677   \n",
              "2    0.197560 -0.205673  0.706970  ...  1.294323  1.847119  1.426018   \n",
              "3    0.667941  1.418061  1.175473  ...  1.294323  0.064186 -0.841101   \n",
              "4    1.138323  0.876816  1.175473  ...  1.706397 -0.381548 -0.841101   \n",
              "..        ...       ...       ...  ...       ...       ...       ...   \n",
              "995  1.138323  0.876816  1.175473  ...  0.882250  0.509919 -0.387677   \n",
              "996  1.138323  0.876816  1.175473  ...  0.882250  2.292852  0.972594   \n",
              "997  0.197560 -0.205673  0.706970  ...  1.294323  1.847119  1.426018   \n",
              "998  1.138323  0.876816  1.175473  ...  1.706397 -0.381548 -0.841101   \n",
              "999  0.197560 -0.205673  0.706970  ...  1.294323  1.847119  1.426018   \n",
              "\n",
              "           17        18        19        20        21        22        23  \n",
              "0   -0.980760 -0.870694 -0.328743 -1.224625 -0.838618 -0.418550  0.728655  \n",
              "1    1.208436  2.069186  0.993281 -0.805663 -1.384593  1.544171 -0.628245  \n",
              "2    2.084114 -0.870694 -1.210093  0.032260  1.345283  1.544171 -0.628245  \n",
              "3   -0.542921 -1.360675  0.111931  0.451222  1.345283  1.544171  1.407105  \n",
              "4   -0.105081 -1.360675  0.111931 -0.805663  0.253332 -0.909231  0.050205  \n",
              "..        ...       ...       ...       ...       ...       ...       ...  \n",
              "995 -0.980760  1.579206  1.874630 -0.805663  0.253332  0.562810  0.050205  \n",
              "996  0.332758  1.579206 -0.769418  0.032260 -0.292643 -1.399911  0.728655  \n",
              "997  2.084114 -0.870694 -1.210093  0.032260  1.345283  1.544171 -0.628245  \n",
              "998 -0.105081 -1.360675  0.111931 -0.805663  0.253332 -0.909231  0.050205  \n",
              "999  2.084114 -0.870694 -1.210093  0.032260  1.345283  1.544171 -0.628245  \n",
              "\n",
              "[1000 rows x 24 columns]"
            ],
            "text/html": [
              "\n",
              "  <div id=\"df-77131a2d-60c1-4a8e-a984-d9994eeb46a4\">\n",
              "    <div class=\"colab-df-container\">\n",
              "      <div>\n",
              "<style scoped>\n",
              "    .dataframe tbody tr th:only-of-type {\n",
              "        vertical-align: middle;\n",
              "    }\n",
              "\n",
              "    .dataframe tbody tr th {\n",
              "        vertical-align: top;\n",
              "    }\n",
              "\n",
              "    .dataframe thead th {\n",
              "        text-align: right;\n",
              "    }\n",
              "</style>\n",
              "<table border=\"1\" class=\"dataframe\">\n",
              "  <thead>\n",
              "    <tr style=\"text-align: right;\">\n",
              "      <th></th>\n",
              "      <th>0</th>\n",
              "      <th>1</th>\n",
              "      <th>2</th>\n",
              "      <th>3</th>\n",
              "      <th>4</th>\n",
              "      <th>5</th>\n",
              "      <th>6</th>\n",
              "      <th>7</th>\n",
              "      <th>8</th>\n",
              "      <th>9</th>\n",
              "      <th>...</th>\n",
              "      <th>14</th>\n",
              "      <th>15</th>\n",
              "      <th>16</th>\n",
              "      <th>17</th>\n",
              "      <th>18</th>\n",
              "      <th>19</th>\n",
              "      <th>20</th>\n",
              "      <th>21</th>\n",
              "      <th>22</th>\n",
              "      <th>23</th>\n",
              "    </tr>\n",
              "  </thead>\n",
              "  <tbody>\n",
              "    <tr>\n",
              "      <th>0</th>\n",
              "      <td>-1.730320</td>\n",
              "      <td>-0.347848</td>\n",
              "      <td>-0.819903</td>\n",
              "      <td>-0.906679</td>\n",
              "      <td>-0.214954</td>\n",
              "      <td>-0.083340</td>\n",
              "      <td>-0.398718</td>\n",
              "      <td>-0.743202</td>\n",
              "      <td>-1.288162</td>\n",
              "      <td>-1.167040</td>\n",
              "      <td>...</td>\n",
              "      <td>-0.353971</td>\n",
              "      <td>-0.381548</td>\n",
              "      <td>0.065746</td>\n",
              "      <td>-0.980760</td>\n",
              "      <td>-0.870694</td>\n",
              "      <td>-0.328743</td>\n",
              "      <td>-1.224625</td>\n",
              "      <td>-0.838618</td>\n",
              "      <td>-0.418550</td>\n",
              "      <td>0.728655</td>\n",
              "    </tr>\n",
              "    <tr>\n",
              "      <th>1</th>\n",
              "      <td>-1.726856</td>\n",
              "      <td>-1.681238</td>\n",
              "      <td>-0.819903</td>\n",
              "      <td>-0.413919</td>\n",
              "      <td>-1.360357</td>\n",
              "      <td>-0.083340</td>\n",
              "      <td>-0.873383</td>\n",
              "      <td>-0.272821</td>\n",
              "      <td>-1.288162</td>\n",
              "      <td>-1.167040</td>\n",
              "      <td>...</td>\n",
              "      <td>-0.766045</td>\n",
              "      <td>-1.273014</td>\n",
              "      <td>-0.387677</td>\n",
              "      <td>1.208436</td>\n",
              "      <td>2.069186</td>\n",
              "      <td>0.993281</td>\n",
              "      <td>-0.805663</td>\n",
              "      <td>-1.384593</td>\n",
              "      <td>1.544171</td>\n",
              "      <td>-0.628245</td>\n",
              "    </tr>\n",
              "    <tr>\n",
              "      <th>2</th>\n",
              "      <td>-1.723391</td>\n",
              "      <td>-0.181174</td>\n",
              "      <td>-0.819903</td>\n",
              "      <td>0.078842</td>\n",
              "      <td>0.166847</td>\n",
              "      <td>0.421751</td>\n",
              "      <td>0.075946</td>\n",
              "      <td>0.197560</td>\n",
              "      <td>-0.205673</td>\n",
              "      <td>0.706970</td>\n",
              "      <td>...</td>\n",
              "      <td>1.294323</td>\n",
              "      <td>1.847119</td>\n",
              "      <td>1.426018</td>\n",
              "      <td>2.084114</td>\n",
              "      <td>-0.870694</td>\n",
              "      <td>-1.210093</td>\n",
              "      <td>0.032260</td>\n",
              "      <td>1.345283</td>\n",
              "      <td>1.544171</td>\n",
              "      <td>-0.628245</td>\n",
              "    </tr>\n",
              "    <tr>\n",
              "      <th>3</th>\n",
              "      <td>-1.719927</td>\n",
              "      <td>-0.014501</td>\n",
              "      <td>-0.819903</td>\n",
              "      <td>1.557123</td>\n",
              "      <td>0.930449</td>\n",
              "      <td>0.926842</td>\n",
              "      <td>1.025275</td>\n",
              "      <td>0.667941</td>\n",
              "      <td>1.418061</td>\n",
              "      <td>1.175473</td>\n",
              "      <td>...</td>\n",
              "      <td>1.294323</td>\n",
              "      <td>0.064186</td>\n",
              "      <td>-0.841101</td>\n",
              "      <td>-0.542921</td>\n",
              "      <td>-1.360675</td>\n",
              "      <td>0.111931</td>\n",
              "      <td>0.451222</td>\n",
              "      <td>1.345283</td>\n",
              "      <td>1.544171</td>\n",
              "      <td>1.407105</td>\n",
              "    </tr>\n",
              "    <tr>\n",
              "      <th>4</th>\n",
              "      <td>-1.716463</td>\n",
              "      <td>0.735531</td>\n",
              "      <td>-0.819903</td>\n",
              "      <td>1.064362</td>\n",
              "      <td>1.312250</td>\n",
              "      <td>0.926842</td>\n",
              "      <td>1.025275</td>\n",
              "      <td>1.138323</td>\n",
              "      <td>0.876816</td>\n",
              "      <td>1.175473</td>\n",
              "      <td>...</td>\n",
              "      <td>1.706397</td>\n",
              "      <td>-0.381548</td>\n",
              "      <td>-0.841101</td>\n",
              "      <td>-0.105081</td>\n",
              "      <td>-1.360675</td>\n",
              "      <td>0.111931</td>\n",
              "      <td>-0.805663</td>\n",
              "      <td>0.253332</td>\n",
              "      <td>-0.909231</td>\n",
              "      <td>0.050205</td>\n",
              "    </tr>\n",
              "    <tr>\n",
              "      <th>...</th>\n",
              "      <td>...</td>\n",
              "      <td>...</td>\n",
              "      <td>...</td>\n",
              "      <td>...</td>\n",
              "      <td>...</td>\n",
              "      <td>...</td>\n",
              "      <td>...</td>\n",
              "      <td>...</td>\n",
              "      <td>...</td>\n",
              "      <td>...</td>\n",
              "      <td>...</td>\n",
              "      <td>...</td>\n",
              "      <td>...</td>\n",
              "      <td>...</td>\n",
              "      <td>...</td>\n",
              "      <td>...</td>\n",
              "      <td>...</td>\n",
              "      <td>...</td>\n",
              "      <td>...</td>\n",
              "      <td>...</td>\n",
              "      <td>...</td>\n",
              "    </tr>\n",
              "    <tr>\n",
              "      <th>995</th>\n",
              "      <td>1.716463</td>\n",
              "      <td>0.568858</td>\n",
              "      <td>-0.819903</td>\n",
              "      <td>1.064362</td>\n",
              "      <td>0.930449</td>\n",
              "      <td>0.926842</td>\n",
              "      <td>1.025275</td>\n",
              "      <td>1.138323</td>\n",
              "      <td>0.876816</td>\n",
              "      <td>1.175473</td>\n",
              "      <td>...</td>\n",
              "      <td>0.882250</td>\n",
              "      <td>0.509919</td>\n",
              "      <td>-0.387677</td>\n",
              "      <td>-0.980760</td>\n",
              "      <td>1.579206</td>\n",
              "      <td>1.874630</td>\n",
              "      <td>-0.805663</td>\n",
              "      <td>0.253332</td>\n",
              "      <td>0.562810</td>\n",
              "      <td>0.050205</td>\n",
              "    </tr>\n",
              "    <tr>\n",
              "      <th>996</th>\n",
              "      <td>1.719927</td>\n",
              "      <td>-0.014501</td>\n",
              "      <td>1.219657</td>\n",
              "      <td>1.064362</td>\n",
              "      <td>1.312250</td>\n",
              "      <td>0.926842</td>\n",
              "      <td>1.025275</td>\n",
              "      <td>1.138323</td>\n",
              "      <td>0.876816</td>\n",
              "      <td>1.175473</td>\n",
              "      <td>...</td>\n",
              "      <td>0.882250</td>\n",
              "      <td>2.292852</td>\n",
              "      <td>0.972594</td>\n",
              "      <td>0.332758</td>\n",
              "      <td>1.579206</td>\n",
              "      <td>-0.769418</td>\n",
              "      <td>0.032260</td>\n",
              "      <td>-0.292643</td>\n",
              "      <td>-1.399911</td>\n",
              "      <td>0.728655</td>\n",
              "    </tr>\n",
              "    <tr>\n",
              "      <th>997</th>\n",
              "      <td>1.723391</td>\n",
              "      <td>-1.014543</td>\n",
              "      <td>1.219657</td>\n",
              "      <td>0.078842</td>\n",
              "      <td>0.166847</td>\n",
              "      <td>0.421751</td>\n",
              "      <td>0.075946</td>\n",
              "      <td>0.197560</td>\n",
              "      <td>-0.205673</td>\n",
              "      <td>0.706970</td>\n",
              "      <td>...</td>\n",
              "      <td>1.294323</td>\n",
              "      <td>1.847119</td>\n",
              "      <td>1.426018</td>\n",
              "      <td>2.084114</td>\n",
              "      <td>-0.870694</td>\n",
              "      <td>-1.210093</td>\n",
              "      <td>0.032260</td>\n",
              "      <td>1.345283</td>\n",
              "      <td>1.544171</td>\n",
              "      <td>-0.628245</td>\n",
              "    </tr>\n",
              "    <tr>\n",
              "      <th>998</th>\n",
              "      <td>1.726856</td>\n",
              "      <td>-1.597901</td>\n",
              "      <td>1.219657</td>\n",
              "      <td>1.064362</td>\n",
              "      <td>1.312250</td>\n",
              "      <td>0.926842</td>\n",
              "      <td>1.025275</td>\n",
              "      <td>1.138323</td>\n",
              "      <td>0.876816</td>\n",
              "      <td>1.175473</td>\n",
              "      <td>...</td>\n",
              "      <td>1.706397</td>\n",
              "      <td>-0.381548</td>\n",
              "      <td>-0.841101</td>\n",
              "      <td>-0.105081</td>\n",
              "      <td>-1.360675</td>\n",
              "      <td>0.111931</td>\n",
              "      <td>-0.805663</td>\n",
              "      <td>0.253332</td>\n",
              "      <td>-0.909231</td>\n",
              "      <td>0.050205</td>\n",
              "    </tr>\n",
              "    <tr>\n",
              "      <th>999</th>\n",
              "      <td>1.730320</td>\n",
              "      <td>0.818868</td>\n",
              "      <td>-0.819903</td>\n",
              "      <td>1.064362</td>\n",
              "      <td>0.166847</td>\n",
              "      <td>0.421751</td>\n",
              "      <td>0.075946</td>\n",
              "      <td>0.197560</td>\n",
              "      <td>-0.205673</td>\n",
              "      <td>0.706970</td>\n",
              "      <td>...</td>\n",
              "      <td>1.294323</td>\n",
              "      <td>1.847119</td>\n",
              "      <td>1.426018</td>\n",
              "      <td>2.084114</td>\n",
              "      <td>-0.870694</td>\n",
              "      <td>-1.210093</td>\n",
              "      <td>0.032260</td>\n",
              "      <td>1.345283</td>\n",
              "      <td>1.544171</td>\n",
              "      <td>-0.628245</td>\n",
              "    </tr>\n",
              "  </tbody>\n",
              "</table>\n",
              "<p>1000 rows × 24 columns</p>\n",
              "</div>\n",
              "      <button class=\"colab-df-convert\" onclick=\"convertToInteractive('df-77131a2d-60c1-4a8e-a984-d9994eeb46a4')\"\n",
              "              title=\"Convert this dataframe to an interactive table.\"\n",
              "              style=\"display:none;\">\n",
              "        \n",
              "  <svg xmlns=\"http://www.w3.org/2000/svg\" height=\"24px\"viewBox=\"0 0 24 24\"\n",
              "       width=\"24px\">\n",
              "    <path d=\"M0 0h24v24H0V0z\" fill=\"none\"/>\n",
              "    <path d=\"M18.56 5.44l.94 2.06.94-2.06 2.06-.94-2.06-.94-.94-2.06-.94 2.06-2.06.94zm-11 1L8.5 8.5l.94-2.06 2.06-.94-2.06-.94L8.5 2.5l-.94 2.06-2.06.94zm10 10l.94 2.06.94-2.06 2.06-.94-2.06-.94-.94-2.06-.94 2.06-2.06.94z\"/><path d=\"M17.41 7.96l-1.37-1.37c-.4-.4-.92-.59-1.43-.59-.52 0-1.04.2-1.43.59L10.3 9.45l-7.72 7.72c-.78.78-.78 2.05 0 2.83L4 21.41c.39.39.9.59 1.41.59.51 0 1.02-.2 1.41-.59l7.78-7.78 2.81-2.81c.8-.78.8-2.07 0-2.86zM5.41 20L4 18.59l7.72-7.72 1.47 1.35L5.41 20z\"/>\n",
              "  </svg>\n",
              "      </button>\n",
              "      \n",
              "  <style>\n",
              "    .colab-df-container {\n",
              "      display:flex;\n",
              "      flex-wrap:wrap;\n",
              "      gap: 12px;\n",
              "    }\n",
              "\n",
              "    .colab-df-convert {\n",
              "      background-color: #E8F0FE;\n",
              "      border: none;\n",
              "      border-radius: 50%;\n",
              "      cursor: pointer;\n",
              "      display: none;\n",
              "      fill: #1967D2;\n",
              "      height: 32px;\n",
              "      padding: 0 0 0 0;\n",
              "      width: 32px;\n",
              "    }\n",
              "\n",
              "    .colab-df-convert:hover {\n",
              "      background-color: #E2EBFA;\n",
              "      box-shadow: 0px 1px 2px rgba(60, 64, 67, 0.3), 0px 1px 3px 1px rgba(60, 64, 67, 0.15);\n",
              "      fill: #174EA6;\n",
              "    }\n",
              "\n",
              "    [theme=dark] .colab-df-convert {\n",
              "      background-color: #3B4455;\n",
              "      fill: #D2E3FC;\n",
              "    }\n",
              "\n",
              "    [theme=dark] .colab-df-convert:hover {\n",
              "      background-color: #434B5C;\n",
              "      box-shadow: 0px 1px 3px 1px rgba(0, 0, 0, 0.15);\n",
              "      filter: drop-shadow(0px 1px 2px rgba(0, 0, 0, 0.3));\n",
              "      fill: #FFFFFF;\n",
              "    }\n",
              "  </style>\n",
              "\n",
              "      <script>\n",
              "        const buttonEl =\n",
              "          document.querySelector('#df-77131a2d-60c1-4a8e-a984-d9994eeb46a4 button.colab-df-convert');\n",
              "        buttonEl.style.display =\n",
              "          google.colab.kernel.accessAllowed ? 'block' : 'none';\n",
              "\n",
              "        async function convertToInteractive(key) {\n",
              "          const element = document.querySelector('#df-77131a2d-60c1-4a8e-a984-d9994eeb46a4');\n",
              "          const dataTable =\n",
              "            await google.colab.kernel.invokeFunction('convertToInteractive',\n",
              "                                                     [key], {});\n",
              "          if (!dataTable) return;\n",
              "\n",
              "          const docLinkHtml = 'Like what you see? Visit the ' +\n",
              "            '<a target=\"_blank\" href=https://colab.research.google.com/notebooks/data_table.ipynb>data table notebook</a>'\n",
              "            + ' to learn more about interactive tables.';\n",
              "          element.innerHTML = '';\n",
              "          dataTable['output_type'] = 'display_data';\n",
              "          await google.colab.output.renderOutput(dataTable, element);\n",
              "          const docLink = document.createElement('div');\n",
              "          docLink.innerHTML = docLinkHtml;\n",
              "          element.appendChild(docLink);\n",
              "        }\n",
              "      </script>\n",
              "    </div>\n",
              "  </div>\n",
              "  "
            ]
          },
          "metadata": {},
          "execution_count": 34
        }
      ]
    },
    {
      "cell_type": "markdown",
      "source": [
        "## **RESUMO PRÉ-PROCESSAMENTO**"
      ],
      "metadata": {
        "id": "1oD9oA46HfTo"
      }
    },
    {
      "cell_type": "markdown",
      "source": [
        "alvo = variável que se pretende atingir.\n",
        "\n",
        "previsores = conjunto de variáveis previsoras com as variáveis categóricas transformadas em numéricas manualmente, sem escalonar.\n",
        "\n",
        "previsores_esc = conjunto de variáveis previsoras com as variáveis categóricas transformadas em numéricas, escalonada."
      ],
      "metadata": {
        "id": "B9Eyu5zGHhDo"
      }
    },
    {
      "cell_type": "markdown",
      "source": [
        "## **BASE DE TREINO E TESTE**"
      ],
      "metadata": {
        "id": "x9tVcinjHpu3"
      }
    },
    {
      "cell_type": "markdown",
      "source": [
        "Parâmetros train_test_split:   \n",
        "- arrays: nomes dos atributos previsores e alvo.   \n",
        "- test_size: tamanho em porcentagem dos dados de teste. default é none.   \n",
        "- train_size: tamanho em porcentagem dos dados de treinamento.default é none.  \n",
        "- random_state: nomeação de um estado aleatório.   \n",
        "- shuffle: embaralhamento dos dados aleatórios. Associado com o random_state ocorre o mesmo embaralhamento sempre. Default é True.  \n",
        "- stratify: Possibilidade de dividir os dados de forma estratificada. Default é None (nesse caso é mantido a proporção, isto é, se tem 30% de zeros e 70% de 1 no dataframe, na separação em treinamento e teste se manterá essa proporção)."
      ],
      "metadata": {
        "id": "LNc8Ur2SHqVM"
      }
    },
    {
      "cell_type": "code",
      "source": [
        "from sklearn.model_selection import train_test_split"
      ],
      "metadata": {
        "id": "7f5HuuYqHdZC"
      },
      "execution_count": 35,
      "outputs": []
    },
    {
      "cell_type": "code",
      "source": [
        "x_treino, x_teste, y_treino, y_teste = train_test_split(previsores_esc, alvo, test_size = 0.3, random_state = 0)"
      ],
      "metadata": {
        "id": "kPKL3a3sHziT"
      },
      "execution_count": 36,
      "outputs": []
    },
    {
      "cell_type": "code",
      "source": [
        "x_treino.shape"
      ],
      "metadata": {
        "colab": {
          "base_uri": "https://localhost:8080/"
        },
        "id": "iA6BZ52bH25W",
        "outputId": "dec63444-ce8e-4093-bac3-634f5c3f0da5"
      },
      "execution_count": 37,
      "outputs": [
        {
          "output_type": "execute_result",
          "data": {
            "text/plain": [
              "(700, 24)"
            ]
          },
          "metadata": {},
          "execution_count": 37
        }
      ]
    },
    {
      "cell_type": "code",
      "source": [
        "x_teste.shape"
      ],
      "metadata": {
        "colab": {
          "base_uri": "https://localhost:8080/"
        },
        "id": "o1yCC1KAH3oG",
        "outputId": "d2f49d72-b1ef-4f80-fc92-2fe5d0cf8b6f"
      },
      "execution_count": 38,
      "outputs": [
        {
          "output_type": "execute_result",
          "data": {
            "text/plain": [
              "(300, 24)"
            ]
          },
          "metadata": {},
          "execution_count": 38
        }
      ]
    },
    {
      "cell_type": "code",
      "source": [
        "y_treino.shape"
      ],
      "metadata": {
        "colab": {
          "base_uri": "https://localhost:8080/"
        },
        "id": "ChwTf9uBH5U9",
        "outputId": "66729058-c724-4c47-9a68-bfc5b52f883f"
      },
      "execution_count": 39,
      "outputs": [
        {
          "output_type": "execute_result",
          "data": {
            "text/plain": [
              "(700,)"
            ]
          },
          "metadata": {},
          "execution_count": 39
        }
      ]
    },
    {
      "cell_type": "code",
      "source": [
        "y_teste.shape"
      ],
      "metadata": {
        "colab": {
          "base_uri": "https://localhost:8080/"
        },
        "id": "LaZ8Rj6EH6sS",
        "outputId": "6900ca98-3154-43ff-9ca8-c70e9bd55197"
      },
      "execution_count": 40,
      "outputs": [
        {
          "output_type": "execute_result",
          "data": {
            "text/plain": [
              "(300,)"
            ]
          },
          "metadata": {},
          "execution_count": 40
        }
      ]
    },
    {
      "cell_type": "markdown",
      "source": [
        "# **ÁRVORE DE DECISÃO**"
      ],
      "metadata": {
        "id": "uw1L3BVGH8gG"
      }
    },
    {
      "cell_type": "code",
      "source": [
        "from sklearn.tree import DecisionTreeClassifier\n",
        "from sklearn import tree"
      ],
      "metadata": {
        "id": "zkBVwOD9H_PI"
      },
      "execution_count": 41,
      "outputs": []
    },
    {
      "cell_type": "code",
      "source": [
        "arvore = DecisionTreeClassifier(criterion='entropy', random_state = 0, max_depth=3)\n",
        "#arvore = DecisionTreeClassifier(criterion='entropy', random_state = 0)\n",
        "_arvore = arvore.fit(x_treino, y_treino)"
      ],
      "metadata": {
        "id": "weXUnul9IBjI"
      },
      "execution_count": 42,
      "outputs": []
    },
    {
      "cell_type": "code",
      "source": [
        "tree.plot_tree(_arvore)"
      ],
      "metadata": {
        "colab": {
          "base_uri": "https://localhost:8080/",
          "height": 445
        },
        "id": "tCwqXf46IDnN",
        "outputId": "aecdc7da-fea4-4067-c4ce-f13e65b56fd8"
      },
      "execution_count": 43,
      "outputs": [
        {
          "output_type": "execute_result",
          "data": {
            "text/plain": [
              "[Text(0.5555555555555556, 0.875, 'X[14] <= 0.264\\nentropy = 1.578\\nsamples = 700\\nvalue = [204, 239, 257]'),\n",
              " Text(0.3333333333333333, 0.625, 'X[18] <= 0.354\\nentropy = 1.094\\nsamples = 407\\nvalue = [191, 210, 6]'),\n",
              " Text(0.2222222222222222, 0.375, 'X[15] <= -0.159\\nentropy = 0.872\\nsamples = 245\\nvalue = [191, 48, 6]'),\n",
              " Text(0.1111111111111111, 0.125, 'entropy = 0.207\\nsamples = 184\\nvalue = [178, 6, 0]'),\n",
              " Text(0.3333333333333333, 0.125, 'entropy = 1.175\\nsamples = 61\\nvalue = [13, 42, 6]'),\n",
              " Text(0.4444444444444444, 0.375, 'entropy = 0.0\\nsamples = 162\\nvalue = [0, 162, 0]'),\n",
              " Text(0.7777777777777778, 0.625, 'X[6] <= 1.263\\nentropy = 0.721\\nsamples = 293\\nvalue = [13, 29, 251]'),\n",
              " Text(0.6666666666666666, 0.375, 'X[10] <= -0.925\\nentropy = 0.449\\nsamples = 271\\nvalue = [13, 7, 251]'),\n",
              " Text(0.5555555555555556, 0.125, 'entropy = 0.0\\nsamples = 13\\nvalue = [13, 0, 0]'),\n",
              " Text(0.7777777777777778, 0.125, 'entropy = 0.18\\nsamples = 258\\nvalue = [0, 7, 251]'),\n",
              " Text(0.8888888888888888, 0.375, 'entropy = 0.0\\nsamples = 22\\nvalue = [0, 22, 0]')]"
            ]
          },
          "metadata": {},
          "execution_count": 43
        },
        {
          "output_type": "display_data",
          "data": {
            "text/plain": [
              "<Figure size 432x288 with 1 Axes>"
            ],
            "image/png": "[encoded data removed]"
          },
          "metadata": {
            "needs_background": "light"
          }
        }
      ]
    },
    {
      "cell_type": "code",
      "source": [
        "previsoes_arvore = arvore.predict(x_teste)\n",
        "previsoes_arvore"
      ],
      "metadata": {
        "colab": {
          "base_uri": "https://localhost:8080/"
        },
        "id": "iOxyeR5PIHm8",
        "outputId": "d51cebfc-2cce-463b-b880-cffc98946e03"
      },
      "execution_count": 44,
      "outputs": [
        {
          "output_type": "execute_result",
          "data": {
            "text/plain": [
              "array([2, 1, 1, 2, 0, 1, 1, 1, 1, 0, 0, 2, 0, 2, 2, 0, 2, 1, 0, 1, 1, 0,\n",
              "       2, 2, 2, 2, 0, 2, 2, 1, 2, 0, 0, 2, 1, 1, 1, 0, 2, 0, 0, 2, 1, 1,\n",
              "       1, 0, 0, 2, 2, 1, 2, 1, 0, 2, 1, 1, 0, 0, 2, 2, 0, 2, 1, 2, 1, 1,\n",
              "       0, 2, 2, 2, 1, 1, 1, 1, 0, 0, 0, 1, 1, 2, 0, 2, 0, 2, 2, 1, 0, 1,\n",
              "       0, 2, 0, 0, 2, 0, 1, 0, 1, 2, 0, 2, 0, 2, 1, 0, 2, 1, 2, 2, 1, 2,\n",
              "       2, 2, 2, 1, 0, 0, 1, 0, 0, 1, 2, 1, 2, 0, 1, 1, 0, 0, 0, 0, 0, 1,\n",
              "       0, 1, 2, 1, 1, 0, 1, 2, 1, 1, 1, 1, 0, 2, 0, 0, 0, 0, 0, 2, 1, 2,\n",
              "       2, 2, 0, 1, 1, 0, 1, 2, 2, 2, 0, 0, 2, 0, 2, 1, 2, 2, 0, 0, 0, 1,\n",
              "       2, 2, 2, 0, 2, 2, 2, 2, 2, 0, 0, 0, 2, 2, 2, 0, 2, 2, 2, 1, 0, 2,\n",
              "       2, 0, 2, 0, 2, 0, 0, 1, 0, 1, 1, 0, 1, 1, 0, 0, 0, 2, 1, 0, 0, 2,\n",
              "       2, 0, 1, 0, 1, 1, 0, 1, 2, 2, 1, 1, 1, 2, 0, 2, 0, 1, 1, 1, 2, 0,\n",
              "       2, 1, 2, 2, 2, 2, 0, 1, 1, 2, 1, 1, 1, 1, 2, 2, 1, 0, 0, 0, 2, 1,\n",
              "       0, 1, 2, 1, 1, 1, 0, 1, 0, 0, 2, 2, 2, 1, 2, 0, 2, 2, 1, 1, 2, 0,\n",
              "       1, 2, 0, 2, 1, 2, 1, 1, 0, 0, 2, 1, 1, 2])"
            ]
          },
          "metadata": {},
          "execution_count": 44
        }
      ]
    },
    {
      "cell_type": "code",
      "source": [
        "y_teste"
      ],
      "metadata": {
        "colab": {
          "base_uri": "https://localhost:8080/"
        },
        "id": "HAw1KDp4IKpn",
        "outputId": "9aedc46c-5539-4f14-fa2f-202f41745480"
      },
      "execution_count": 45,
      "outputs": [
        {
          "output_type": "execute_result",
          "data": {
            "text/plain": [
              "array([2, 1, 1, 2, 0, 1, 1, 1, 1, 0, 0, 2, 0, 2, 2, 0, 2, 1, 0, 1, 2, 0,\n",
              "       2, 2, 2, 2, 0, 2, 2, 1, 2, 0, 0, 2, 1, 1, 1, 0, 2, 0, 1, 2, 1, 1,\n",
              "       1, 0, 0, 2, 2, 1, 2, 1, 0, 2, 1, 1, 0, 0, 2, 2, 0, 2, 2, 2, 1, 1,\n",
              "       0, 2, 2, 2, 1, 1, 1, 1, 0, 0, 0, 1, 1, 2, 0, 1, 0, 2, 2, 1, 0, 1,\n",
              "       0, 2, 1, 0, 2, 0, 1, 0, 1, 2, 0, 2, 1, 2, 1, 0, 2, 1, 2, 1, 1, 2,\n",
              "       2, 2, 2, 1, 0, 0, 1, 0, 0, 1, 2, 1, 2, 0, 0, 1, 0, 0, 0, 0, 0, 1,\n",
              "       0, 0, 2, 1, 0, 1, 1, 2, 1, 0, 1, 1, 0, 2, 0, 0, 0, 0, 0, 2, 1, 2,\n",
              "       2, 2, 0, 1, 1, 0, 1, 2, 2, 2, 0, 0, 2, 0, 2, 1, 2, 2, 0, 0, 0, 1,\n",
              "       2, 2, 2, 0, 2, 2, 2, 2, 2, 0, 0, 0, 2, 2, 2, 0, 2, 2, 2, 1, 0, 2,\n",
              "       2, 0, 2, 0, 2, 0, 0, 1, 0, 1, 1, 0, 1, 1, 0, 0, 0, 2, 0, 0, 0, 2,\n",
              "       2, 0, 1, 0, 1, 1, 0, 1, 2, 2, 1, 1, 1, 2, 0, 2, 0, 1, 1, 1, 2, 0,\n",
              "       2, 2, 2, 2, 2, 2, 0, 1, 2, 1, 1, 1, 1, 1, 2, 2, 1, 0, 0, 0, 2, 1,\n",
              "       0, 0, 2, 1, 1, 1, 0, 1, 0, 0, 2, 2, 2, 1, 2, 0, 2, 2, 1, 1, 2, 0,\n",
              "       1, 2, 0, 2, 1, 2, 1, 1, 0, 0, 2, 1, 0, 2])"
            ]
          },
          "metadata": {},
          "execution_count": 45
        }
      ]
    },
    {
      "cell_type": "code",
      "source": [
        "from sklearn.metrics import accuracy_score, confusion_matrix, classification_report"
      ],
      "metadata": {
        "id": "iAzaj45BIM5H"
      },
      "execution_count": 46,
      "outputs": []
    },
    {
      "cell_type": "code",
      "source": [
        "print(\"Acurácia: %.2f%%\" % (accuracy_score(y_teste, previsoes_arvore) * 100.0))"
      ],
      "metadata": {
        "colab": {
          "base_uri": "https://localhost:8080/"
        },
        "id": "ymvwVG1xIOml",
        "outputId": "0edf6279-43bb-4845-f7da-f76003239556"
      },
      "execution_count": 47,
      "outputs": [
        {
          "output_type": "stream",
          "name": "stdout",
          "text": [
            "Acurácia: 94.00%\n"
          ]
        }
      ]
    },
    {
      "cell_type": "code",
      "source": [
        "confusion_matrix(y_teste, previsoes_arvore)"
      ],
      "metadata": {
        "colab": {
          "base_uri": "https://localhost:8080/"
        },
        "id": "zuIJUjmJIS4r",
        "outputId": "8de46b84-9a58-4dd0-9a9a-511b79f51034"
      },
      "execution_count": 48,
      "outputs": [
        {
          "output_type": "execute_result",
          "data": {
            "text/plain": [
              "array([[ 92,   7,   0],\n",
              "       [  4,  86,   3],\n",
              "       [  0,   4, 104]])"
            ]
          },
          "metadata": {},
          "execution_count": 48
        }
      ]
    },
    {
      "cell_type": "code",
      "source": [
        "print(classification_report(y_teste, previsoes_arvore))"
      ],
      "metadata": {
        "colab": {
          "base_uri": "https://localhost:8080/"
        },
        "id": "sUNoHD6DITwV",
        "outputId": "5af48aa1-7dde-478d-a13a-ebd03486e059"
      },
      "execution_count": 49,
      "outputs": [
        {
          "output_type": "stream",
          "name": "stdout",
          "text": [
            "              precision    recall  f1-score   support\n",
            "\n",
            "           0       0.96      0.93      0.94        99\n",
            "           1       0.89      0.92      0.91        93\n",
            "           2       0.97      0.96      0.97       108\n",
            "\n",
            "    accuracy                           0.94       300\n",
            "   macro avg       0.94      0.94      0.94       300\n",
            "weighted avg       0.94      0.94      0.94       300\n",
            "\n"
          ]
        }
      ]
    },
    {
      "cell_type": "markdown",
      "source": [
        "**Análise dados de treino**"
      ],
      "metadata": {
        "id": "D54mYmCzIf3c"
      }
    },
    {
      "cell_type": "code",
      "source": [
        "previsoes_treino = arvore.predict(x_treino)\n",
        "previsoes_treino"
      ],
      "metadata": {
        "colab": {
          "base_uri": "https://localhost:8080/"
        },
        "id": "4algZViMId5z",
        "outputId": "9932487a-51bf-4939-b3a9-030b54f4027b"
      },
      "execution_count": 50,
      "outputs": [
        {
          "output_type": "execute_result",
          "data": {
            "text/plain": [
              "array([2, 2, 1, 1, 0, 0, 0, 2, 1, 0, 0, 0, 1, 2, 2, 1, 2, 1, 1, 0, 0, 0,\n",
              "       0, 2, 1, 1, 0, 0, 0, 1, 1, 1, 1, 2, 0, 2, 2, 2, 1, 1, 1, 0, 0, 2,\n",
              "       1, 2, 1, 2, 0, 2, 1, 1, 1, 1, 1, 1, 2, 2, 1, 2, 2, 2, 1, 1, 2, 2,\n",
              "       1, 2, 2, 2, 1, 0, 1, 2, 2, 0, 1, 2, 2, 1, 1, 0, 2, 2, 2, 1, 0, 2,\n",
              "       2, 0, 0, 2, 2, 1, 1, 1, 0, 2, 1, 2, 2, 2, 2, 0, 1, 0, 2, 0, 2, 0,\n",
              "       1, 0, 2, 2, 2, 2, 1, 0, 1, 1, 1, 1, 2, 1, 1, 2, 0, 0, 0, 0, 2, 0,\n",
              "       1, 2, 1, 0, 0, 0, 0, 1, 2, 1, 0, 1, 2, 1, 2, 0, 1, 1, 0, 2, 0, 1,\n",
              "       2, 0, 2, 2, 2, 2, 2, 1, 0, 2, 2, 0, 0, 2, 1, 0, 1, 1, 2, 1, 2, 1,\n",
              "       2, 1, 0, 1, 2, 1, 1, 2, 0, 2, 2, 2, 1, 0, 0, 2, 1, 2, 2, 2, 0, 2,\n",
              "       2, 0, 1, 1, 1, 1, 1, 1, 0, 1, 1, 2, 2, 2, 0, 2, 2, 2, 2, 1, 2, 2,\n",
              "       0, 1, 2, 0, 0, 0, 1, 2, 1, 2, 0, 1, 0, 2, 2, 0, 1, 2, 1, 0, 1, 2,\n",
              "       1, 0, 1, 2, 1, 2, 1, 1, 0, 2, 2, 2, 2, 2, 0, 0, 2, 2, 0, 0, 1, 0,\n",
              "       1, 0, 1, 2, 1, 2, 1, 1, 0, 1, 2, 1, 0, 1, 2, 1, 0, 0, 0, 2, 1, 1,\n",
              "       1, 2, 0, 2, 2, 2, 2, 2, 0, 0, 1, 2, 1, 0, 2, 2, 1, 2, 2, 0, 1, 0,\n",
              "       2, 1, 0, 2, 0, 0, 0, 1, 2, 2, 0, 2, 0, 0, 2, 2, 2, 1, 1, 1, 2, 2,\n",
              "       2, 1, 2, 1, 2, 1, 2, 1, 2, 1, 1, 0, 0, 1, 2, 0, 1, 0, 2, 2, 2, 2,\n",
              "       1, 1, 0, 0, 1, 0, 1, 1, 1, 1, 2, 2, 0, 2, 1, 2, 0, 1, 2, 2, 0, 0,\n",
              "       1, 1, 1, 2, 2, 1, 1, 1, 2, 1, 2, 2, 2, 0, 2, 2, 2, 2, 0, 1, 1, 1,\n",
              "       0, 2, 0, 2, 1, 1, 2, 1, 0, 1, 1, 1, 0, 0, 2, 2, 1, 2, 1, 1, 1, 0,\n",
              "       1, 2, 0, 0, 1, 2, 1, 0, 2, 0, 0, 0, 1, 2, 2, 1, 0, 1, 1, 1, 1, 2,\n",
              "       1, 2, 1, 0, 1, 2, 2, 2, 0, 1, 1, 1, 2, 2, 1, 0, 0, 1, 0, 2, 0, 1,\n",
              "       1, 1, 1, 0, 2, 1, 2, 0, 2, 1, 2, 1, 2, 0, 2, 2, 2, 0, 1, 0, 2, 0,\n",
              "       1, 1, 1, 2, 2, 2, 1, 0, 0, 0, 2, 0, 2, 1, 2, 0, 0, 1, 2, 1, 2, 0,\n",
              "       2, 1, 0, 1, 0, 1, 1, 0, 1, 0, 1, 2, 1, 1, 2, 2, 1, 1, 1, 0, 1, 0,\n",
              "       0, 2, 1, 0, 2, 0, 0, 1, 1, 1, 1, 1, 1, 2, 2, 0, 1, 0, 0, 2, 0, 0,\n",
              "       2, 1, 0, 2, 0, 1, 0, 2, 2, 1, 2, 0, 1, 0, 2, 2, 2, 0, 1, 0, 0, 0,\n",
              "       2, 0, 0, 1, 0, 1, 1, 0, 0, 1, 2, 1, 0, 0, 1, 1, 2, 1, 0, 0, 0, 2,\n",
              "       2, 1, 1, 1, 2, 2, 0, 1, 2, 2, 2, 1, 1, 2, 0, 1, 0, 2, 1, 2, 2, 0,\n",
              "       2, 1, 2, 2, 0, 2, 0, 2, 0, 0, 0, 0, 0, 2, 0, 2, 2, 0, 0, 0, 2, 1,\n",
              "       2, 1, 2, 1, 1, 1, 0, 2, 0, 2, 2, 1, 1, 0, 1, 0, 2, 0, 2, 2, 1, 1,\n",
              "       2, 1, 2, 2, 1, 0, 2, 2, 2, 2, 1, 2, 2, 2, 1, 1, 1, 2, 2, 0, 0, 2,\n",
              "       1, 0, 2, 1, 0, 1, 2, 0, 2, 1, 1, 0, 2, 0, 1, 1, 2, 2])"
            ]
          },
          "metadata": {},
          "execution_count": 50
        }
      ]
    },
    {
      "cell_type": "code",
      "source": [
        "accuracy_score(y_treino, previsoes_treino)"
      ],
      "metadata": {
        "colab": {
          "base_uri": "https://localhost:8080/"
        },
        "id": "vThZkd2VIiJE",
        "outputId": "5956d610-6257-4ac2-c02f-1fd57e0b33c5"
      },
      "execution_count": 51,
      "outputs": [
        {
          "output_type": "execute_result",
          "data": {
            "text/plain": [
              "0.9542857142857143"
            ]
          },
          "metadata": {},
          "execution_count": 51
        }
      ]
    },
    {
      "cell_type": "code",
      "source": [
        "confusion_matrix(y_treino, previsoes_treino)"
      ],
      "metadata": {
        "colab": {
          "base_uri": "https://localhost:8080/"
        },
        "id": "fUCUM0VJIkyc",
        "outputId": "eae840e6-dc44-4ef9-b8d1-a9db45cdc1dd"
      },
      "execution_count": 52,
      "outputs": [
        {
          "output_type": "execute_result",
          "data": {
            "text/plain": [
              "array([[191,  13,   0],\n",
              "       [  6, 226,   7],\n",
              "       [  0,   6, 251]])"
            ]
          },
          "metadata": {},
          "execution_count": 52
        }
      ]
    },
    {
      "cell_type": "markdown",
      "source": [
        "Árvore de Decisão: 94.00%"
      ],
      "metadata": {
        "id": "mSX3BOB6MRgg"
      }
    },
    {
      "cell_type": "markdown",
      "source": [
        "# **RANDOM FOREST**"
      ],
      "metadata": {
        "id": "20N4iIfqJQGK"
      }
    },
    {
      "cell_type": "code",
      "source": [
        "from sklearn.ensemble import RandomForestClassifier"
      ],
      "metadata": {
        "id": "gwNa2devJRLT"
      },
      "execution_count": 53,
      "outputs": []
    },
    {
      "cell_type": "code",
      "source": [
        "random = RandomForestClassifier(n_estimators=150, criterion='entropy', random_state = 0, max_depth=4)\n",
        "random.fit(x_treino, y_treino)"
      ],
      "metadata": {
        "colab": {
          "base_uri": "https://localhost:8080/"
        },
        "id": "4cbTRt7OJTEJ",
        "outputId": "bb193510-9da5-4c17-c4f1-6ab3503fd697"
      },
      "execution_count": 54,
      "outputs": [
        {
          "output_type": "execute_result",
          "data": {
            "text/plain": [
              "RandomForestClassifier(criterion='entropy', max_depth=4, n_estimators=150,\n",
              "                       random_state=0)"
            ]
          },
          "metadata": {},
          "execution_count": 54
        }
      ]
    },
    {
      "cell_type": "code",
      "source": [
        "previsoes_random = random.predict(x_teste)\n",
        "previsoes_random"
      ],
      "metadata": {
        "colab": {
          "base_uri": "https://localhost:8080/"
        },
        "id": "zgnWkmIwJVD4",
        "outputId": "379fdee9-4caa-48c9-95b7-c6b655191f1e"
      },
      "execution_count": 55,
      "outputs": [
        {
          "output_type": "execute_result",
          "data": {
            "text/plain": [
              "array([2, 1, 1, 2, 0, 1, 1, 1, 1, 0, 0, 2, 0, 2, 2, 0, 2, 1, 0, 1, 2, 0,\n",
              "       2, 2, 2, 2, 0, 2, 2, 1, 2, 0, 0, 2, 1, 1, 1, 0, 2, 0, 1, 2, 1, 1,\n",
              "       1, 0, 0, 2, 2, 1, 2, 1, 0, 2, 1, 1, 0, 0, 2, 2, 0, 2, 2, 2, 1, 1,\n",
              "       0, 2, 2, 2, 1, 1, 1, 1, 0, 0, 0, 1, 1, 2, 0, 1, 0, 2, 2, 1, 0, 1,\n",
              "       0, 2, 1, 0, 2, 0, 1, 0, 1, 2, 0, 2, 1, 2, 1, 0, 2, 1, 2, 1, 1, 2,\n",
              "       2, 2, 2, 1, 0, 0, 1, 0, 0, 1, 2, 1, 2, 0, 0, 1, 0, 0, 0, 0, 0, 1,\n",
              "       0, 0, 2, 1, 0, 1, 1, 2, 1, 0, 1, 1, 0, 2, 0, 0, 0, 0, 0, 2, 1, 2,\n",
              "       2, 2, 0, 1, 1, 0, 1, 2, 2, 2, 0, 0, 2, 0, 2, 1, 2, 2, 0, 0, 0, 1,\n",
              "       2, 2, 2, 0, 2, 2, 2, 2, 2, 0, 0, 0, 2, 2, 2, 0, 2, 2, 2, 1, 0, 2,\n",
              "       2, 0, 2, 0, 2, 0, 0, 1, 0, 1, 1, 0, 1, 1, 0, 0, 0, 2, 0, 0, 0, 2,\n",
              "       2, 0, 1, 0, 1, 1, 0, 1, 2, 2, 1, 1, 1, 2, 0, 2, 0, 1, 1, 1, 2, 0,\n",
              "       2, 2, 2, 2, 2, 2, 0, 1, 2, 1, 1, 1, 1, 1, 2, 2, 1, 0, 0, 0, 2, 1,\n",
              "       0, 0, 2, 1, 1, 1, 0, 1, 0, 0, 2, 2, 2, 1, 2, 0, 2, 2, 1, 1, 2, 0,\n",
              "       1, 2, 0, 2, 1, 2, 1, 1, 0, 0, 2, 1, 0, 2])"
            ]
          },
          "metadata": {},
          "execution_count": 55
        }
      ]
    },
    {
      "cell_type": "code",
      "source": [
        "y_teste"
      ],
      "metadata": {
        "colab": {
          "base_uri": "https://localhost:8080/"
        },
        "id": "RUp5OVYCJXT3",
        "outputId": "0a501fad-8599-4be2-a441-c9e690dcc78f"
      },
      "execution_count": 56,
      "outputs": [
        {
          "output_type": "execute_result",
          "data": {
            "text/plain": [
              "array([2, 1, 1, 2, 0, 1, 1, 1, 1, 0, 0, 2, 0, 2, 2, 0, 2, 1, 0, 1, 2, 0,\n",
              "       2, 2, 2, 2, 0, 2, 2, 1, 2, 0, 0, 2, 1, 1, 1, 0, 2, 0, 1, 2, 1, 1,\n",
              "       1, 0, 0, 2, 2, 1, 2, 1, 0, 2, 1, 1, 0, 0, 2, 2, 0, 2, 2, 2, 1, 1,\n",
              "       0, 2, 2, 2, 1, 1, 1, 1, 0, 0, 0, 1, 1, 2, 0, 1, 0, 2, 2, 1, 0, 1,\n",
              "       0, 2, 1, 0, 2, 0, 1, 0, 1, 2, 0, 2, 1, 2, 1, 0, 2, 1, 2, 1, 1, 2,\n",
              "       2, 2, 2, 1, 0, 0, 1, 0, 0, 1, 2, 1, 2, 0, 0, 1, 0, 0, 0, 0, 0, 1,\n",
              "       0, 0, 2, 1, 0, 1, 1, 2, 1, 0, 1, 1, 0, 2, 0, 0, 0, 0, 0, 2, 1, 2,\n",
              "       2, 2, 0, 1, 1, 0, 1, 2, 2, 2, 0, 0, 2, 0, 2, 1, 2, 2, 0, 0, 0, 1,\n",
              "       2, 2, 2, 0, 2, 2, 2, 2, 2, 0, 0, 0, 2, 2, 2, 0, 2, 2, 2, 1, 0, 2,\n",
              "       2, 0, 2, 0, 2, 0, 0, 1, 0, 1, 1, 0, 1, 1, 0, 0, 0, 2, 0, 0, 0, 2,\n",
              "       2, 0, 1, 0, 1, 1, 0, 1, 2, 2, 1, 1, 1, 2, 0, 2, 0, 1, 1, 1, 2, 0,\n",
              "       2, 2, 2, 2, 2, 2, 0, 1, 2, 1, 1, 1, 1, 1, 2, 2, 1, 0, 0, 0, 2, 1,\n",
              "       0, 0, 2, 1, 1, 1, 0, 1, 0, 0, 2, 2, 2, 1, 2, 0, 2, 2, 1, 1, 2, 0,\n",
              "       1, 2, 0, 2, 1, 2, 1, 1, 0, 0, 2, 1, 0, 2])"
            ]
          },
          "metadata": {},
          "execution_count": 56
        }
      ]
    },
    {
      "cell_type": "code",
      "source": [
        "from sklearn.metrics import accuracy_score, confusion_matrix, classification_report"
      ],
      "metadata": {
        "id": "f5e5wsxgJZ3P"
      },
      "execution_count": 57,
      "outputs": []
    },
    {
      "cell_type": "code",
      "source": [
        "print(\"Acurácia: %.2f%%\" % (accuracy_score(y_teste, previsoes_random) * 100.0))"
      ],
      "metadata": {
        "colab": {
          "base_uri": "https://localhost:8080/"
        },
        "id": "wyR45d-yJbv-",
        "outputId": "677ca888-0c44-41d5-9a94-17c42daf1967"
      },
      "execution_count": 58,
      "outputs": [
        {
          "output_type": "stream",
          "name": "stdout",
          "text": [
            "Acurácia: 100.00%\n"
          ]
        }
      ]
    },
    {
      "cell_type": "code",
      "source": [
        "confusion_matrix(y_teste, previsoes_random)"
      ],
      "metadata": {
        "colab": {
          "base_uri": "https://localhost:8080/"
        },
        "id": "Tv_0Eur_JfEa",
        "outputId": "28d3e5e8-219f-4a14-88a8-18f314a79a8b"
      },
      "execution_count": 59,
      "outputs": [
        {
          "output_type": "execute_result",
          "data": {
            "text/plain": [
              "array([[ 99,   0,   0],\n",
              "       [  0,  93,   0],\n",
              "       [  0,   0, 108]])"
            ]
          },
          "metadata": {},
          "execution_count": 59
        }
      ]
    },
    {
      "cell_type": "code",
      "source": [
        "print(classification_report(y_teste, previsoes_random))"
      ],
      "metadata": {
        "colab": {
          "base_uri": "https://localhost:8080/"
        },
        "id": "4GmHN2feJhBj",
        "outputId": "3f7f200f-def3-4b16-82a5-050a91697fed"
      },
      "execution_count": 60,
      "outputs": [
        {
          "output_type": "stream",
          "name": "stdout",
          "text": [
            "              precision    recall  f1-score   support\n",
            "\n",
            "           0       1.00      1.00      1.00        99\n",
            "           1       1.00      1.00      1.00        93\n",
            "           2       1.00      1.00      1.00       108\n",
            "\n",
            "    accuracy                           1.00       300\n",
            "   macro avg       1.00      1.00      1.00       300\n",
            "weighted avg       1.00      1.00      1.00       300\n",
            "\n"
          ]
        }
      ]
    },
    {
      "cell_type": "code",
      "source": [
        "previsoes_treino = random.predict(x_treino)\n",
        "previsoes_treino"
      ],
      "metadata": {
        "colab": {
          "base_uri": "https://localhost:8080/"
        },
        "id": "UnkL-ar3Jjd5",
        "outputId": "fd94c6c4-d956-486e-d990-0dee93206ac2"
      },
      "execution_count": 61,
      "outputs": [
        {
          "output_type": "execute_result",
          "data": {
            "text/plain": [
              "array([2, 2, 1, 1, 0, 0, 0, 2, 1, 0, 0, 0, 1, 2, 2, 0, 2, 1, 1, 0, 0, 0,\n",
              "       0, 2, 1, 1, 0, 0, 0, 2, 1, 1, 1, 2, 0, 2, 2, 2, 1, 1, 1, 0, 0, 1,\n",
              "       2, 2, 1, 2, 0, 2, 1, 1, 1, 1, 1, 1, 2, 2, 1, 2, 2, 2, 1, 1, 2, 2,\n",
              "       1, 1, 2, 2, 1, 0, 1, 2, 2, 0, 1, 2, 2, 1, 1, 0, 2, 2, 2, 1, 0, 2,\n",
              "       2, 0, 0, 2, 2, 1, 1, 1, 0, 2, 0, 2, 2, 2, 2, 0, 1, 0, 2, 0, 2, 0,\n",
              "       1, 0, 2, 2, 2, 2, 0, 0, 1, 1, 1, 1, 2, 1, 1, 2, 0, 0, 0, 0, 2, 0,\n",
              "       1, 2, 1, 0, 0, 0, 0, 1, 2, 1, 0, 1, 2, 1, 2, 0, 1, 1, 0, 2, 0, 2,\n",
              "       2, 0, 2, 2, 2, 2, 2, 1, 0, 2, 2, 0, 0, 2, 1, 0, 1, 1, 2, 1, 2, 1,\n",
              "       2, 1, 0, 1, 2, 1, 1, 2, 0, 2, 2, 2, 1, 0, 0, 2, 0, 2, 2, 2, 0, 2,\n",
              "       2, 0, 1, 1, 1, 1, 1, 1, 0, 1, 1, 2, 2, 2, 0, 2, 1, 2, 2, 1, 2, 2,\n",
              "       0, 1, 2, 0, 0, 0, 1, 2, 1, 2, 0, 1, 1, 2, 2, 0, 2, 2, 1, 0, 1, 2,\n",
              "       1, 0, 1, 2, 1, 2, 1, 1, 0, 2, 2, 2, 2, 2, 0, 0, 2, 2, 0, 0, 1, 0,\n",
              "       1, 0, 1, 2, 1, 2, 1, 1, 0, 1, 2, 1, 0, 1, 2, 1, 0, 0, 0, 2, 1, 1,\n",
              "       1, 2, 0, 2, 2, 2, 2, 2, 0, 0, 1, 2, 1, 0, 2, 2, 0, 1, 2, 0, 1, 1,\n",
              "       2, 1, 0, 2, 0, 0, 0, 1, 2, 2, 0, 2, 1, 0, 2, 2, 1, 2, 0, 1, 2, 2,\n",
              "       2, 1, 2, 1, 2, 1, 2, 1, 2, 1, 1, 0, 0, 1, 2, 0, 1, 0, 2, 2, 2, 2,\n",
              "       1, 1, 0, 0, 1, 0, 1, 1, 1, 1, 2, 2, 0, 2, 1, 2, 0, 1, 2, 2, 0, 0,\n",
              "       1, 1, 1, 2, 2, 1, 1, 1, 2, 1, 2, 2, 2, 0, 2, 2, 2, 2, 0, 1, 1, 1,\n",
              "       0, 2, 0, 2, 1, 1, 2, 1, 0, 1, 1, 1, 0, 0, 2, 2, 1, 2, 1, 1, 0, 0,\n",
              "       1, 2, 0, 0, 1, 2, 1, 0, 2, 0, 1, 0, 1, 2, 2, 1, 0, 1, 1, 1, 0, 2,\n",
              "       1, 2, 1, 0, 1, 2, 2, 2, 0, 1, 1, 0, 2, 2, 1, 0, 0, 1, 0, 2, 0, 1,\n",
              "       1, 0, 1, 0, 1, 1, 2, 0, 2, 1, 2, 1, 2, 0, 2, 2, 2, 0, 1, 0, 2, 0,\n",
              "       1, 1, 1, 2, 2, 2, 1, 0, 0, 0, 2, 0, 2, 1, 2, 0, 0, 1, 2, 1, 2, 0,\n",
              "       2, 1, 0, 1, 0, 1, 1, 0, 1, 0, 1, 2, 1, 0, 2, 2, 1, 1, 1, 0, 1, 0,\n",
              "       0, 2, 1, 0, 2, 0, 0, 1, 0, 1, 1, 1, 1, 2, 2, 0, 1, 0, 0, 2, 0, 0,\n",
              "       2, 1, 0, 2, 0, 1, 0, 1, 2, 1, 2, 0, 1, 0, 2, 2, 2, 0, 1, 0, 0, 0,\n",
              "       2, 0, 0, 1, 0, 1, 1, 0, 0, 1, 2, 1, 0, 0, 1, 1, 2, 1, 0, 0, 0, 2,\n",
              "       2, 1, 1, 1, 2, 2, 0, 0, 2, 2, 2, 1, 1, 2, 0, 1, 1, 2, 1, 2, 2, 1,\n",
              "       2, 1, 2, 2, 0, 2, 0, 2, 0, 0, 0, 0, 0, 2, 0, 2, 2, 0, 0, 0, 2, 1,\n",
              "       2, 1, 2, 1, 1, 1, 0, 2, 0, 2, 2, 1, 2, 0, 1, 0, 2, 0, 2, 2, 1, 1,\n",
              "       2, 1, 2, 2, 1, 0, 2, 2, 2, 2, 1, 2, 2, 2, 1, 1, 1, 2, 2, 0, 0, 2,\n",
              "       1, 0, 2, 1, 0, 1, 2, 0, 2, 1, 1, 0, 2, 0, 1, 1, 2, 2])"
            ]
          },
          "metadata": {},
          "execution_count": 61
        }
      ]
    },
    {
      "cell_type": "code",
      "source": [
        "accuracy_score(y_treino, previsoes_treino)"
      ],
      "metadata": {
        "colab": {
          "base_uri": "https://localhost:8080/"
        },
        "id": "UWnNGp--Jlc-",
        "outputId": "e831366d-3342-4d5b-fa9a-994ecd878ffc"
      },
      "execution_count": 62,
      "outputs": [
        {
          "output_type": "execute_result",
          "data": {
            "text/plain": [
              "1.0"
            ]
          },
          "metadata": {},
          "execution_count": 62
        }
      ]
    },
    {
      "cell_type": "code",
      "source": [
        "confusion_matrix(y_treino, previsoes_treino)"
      ],
      "metadata": {
        "colab": {
          "base_uri": "https://localhost:8080/"
        },
        "id": "R3mTZhyPJnMe",
        "outputId": "f7912285-470a-422e-a362-daf85b93ad6a"
      },
      "execution_count": 63,
      "outputs": [
        {
          "output_type": "execute_result",
          "data": {
            "text/plain": [
              "array([[204,   0,   0],\n",
              "       [  0, 239,   0],\n",
              "       [  0,   0, 257]])"
            ]
          },
          "metadata": {},
          "execution_count": 63
        }
      ]
    },
    {
      "cell_type": "markdown",
      "source": [
        "Radom Forest: 100.00%"
      ],
      "metadata": {
        "id": "VwbUux72MK8-"
      }
    },
    {
      "cell_type": "markdown",
      "source": [
        "# **REGRESSÃO LOGÍSTICA**"
      ],
      "metadata": {
        "id": "jUAakdTMK1qf"
      }
    },
    {
      "cell_type": "code",
      "source": [
        "from sklearn.linear_model import LogisticRegression"
      ],
      "metadata": {
        "id": "ojapTj59K2jX"
      },
      "execution_count": 64,
      "outputs": []
    },
    {
      "cell_type": "code",
      "source": [
        "logistica = LogisticRegression(random_state=1, max_iter=500, penalty=\"l1\", tol=0.0001, C=2, solver='liblinear')\n",
        "logistica.fit(x_treino, y_treino)"
      ],
      "metadata": {
        "colab": {
          "base_uri": "https://localhost:8080/"
        },
        "id": "vE1WtHMDK63R",
        "outputId": "272e6c86-cba1-4dca-fef2-83504e5bc3b7"
      },
      "execution_count": 68,
      "outputs": [
        {
          "output_type": "execute_result",
          "data": {
            "text/plain": [
              "LogisticRegression(C=2, max_iter=500, penalty='l1', random_state=1,\n",
              "                   solver='liblinear')"
            ]
          },
          "metadata": {},
          "execution_count": 68
        }
      ]
    },
    {
      "cell_type": "code",
      "source": [
        "logistica.intercept_"
      ],
      "metadata": {
        "colab": {
          "base_uri": "https://localhost:8080/"
        },
        "id": "dngiETelLjFH",
        "outputId": "c482d05c-d0dd-49db-db3e-9173efd3e4db"
      },
      "execution_count": 69,
      "outputs": [
        {
          "output_type": "execute_result",
          "data": {
            "text/plain": [
              "array([-5.32616298, -5.3767057 , -4.30052097])"
            ]
          },
          "metadata": {},
          "execution_count": 69
        }
      ]
    },
    {
      "cell_type": "code",
      "source": [
        "logistica.coef_"
      ],
      "metadata": {
        "colab": {
          "base_uri": "https://localhost:8080/"
        },
        "id": "I9fju1vXLopb",
        "outputId": "daa40b57-5b44-4bf0-a7ab-206cba211449"
      },
      "execution_count": 70,
      "outputs": [
        {
          "output_type": "execute_result",
          "data": {
            "text/plain": [
              "array([[ 0.00000000e+00, -1.16816349e+00,  2.44353812e-01,\n",
              "         0.00000000e+00,  0.00000000e+00, -9.44144233e-01,\n",
              "         0.00000000e+00,  0.00000000e+00,  0.00000000e+00,\n",
              "         0.00000000e+00, -3.48418213e+00,  0.00000000e+00,\n",
              "        -1.85410118e+00,  0.00000000e+00, -1.98623070e+00,\n",
              "        -4.88759480e-01,  0.00000000e+00,  0.00000000e+00,\n",
              "        -3.83426073e+00, -1.22404551e+00, -2.37864884e+00,\n",
              "        -6.15525616e-01, -1.22997230e+00, -2.24576132e+00],\n",
              "       [ 0.00000000e+00,  2.59034090e+00, -1.50605002e-02,\n",
              "        -8.71283539e+00, -6.19118859e+00,  1.79199873e+01,\n",
              "        -1.09554638e+01,  4.25746075e+00,  6.84956081e+00,\n",
              "        -1.65717751e+00,  2.44251282e+00,  4.04637915e+00,\n",
              "        -3.98098766e+00, -2.67582536e+00, -1.78814500e-01,\n",
              "        -3.78507189e+00,  1.00798219e+00,  3.02187526e-01,\n",
              "         3.29733494e+00, -1.28075105e+00,  2.77277850e+00,\n",
              "         1.31857310e+00, -4.18963829e-01,  4.95935210e+00],\n",
              "       [ 0.00000000e+00, -2.33084098e-01,  1.56946573e-01,\n",
              "         1.62816954e+00,  0.00000000e+00,  0.00000000e+00,\n",
              "         0.00000000e+00,  0.00000000e+00,  0.00000000e+00,\n",
              "         0.00000000e+00,  0.00000000e+00,  0.00000000e+00,\n",
              "         3.95660478e+00,  0.00000000e+00,  2.69951877e+00,\n",
              "         2.52176699e+00,  0.00000000e+00,  2.14617393e+00,\n",
              "        -1.91263962e-02,  1.31685525e+00,  1.21374878e+00,\n",
              "         1.28687638e-02,  6.36412854e-02,  0.00000000e+00]])"
            ]
          },
          "metadata": {},
          "execution_count": 70
        }
      ]
    },
    {
      "cell_type": "code",
      "source": [
        "previsoes_logistica = logistica.predict(x_teste)\n",
        "previsoes_logistica"
      ],
      "metadata": {
        "colab": {
          "base_uri": "https://localhost:8080/"
        },
        "id": "o8bcemzhLsfI",
        "outputId": "8e357fad-4be3-4658-e352-f3cd4c7b174b"
      },
      "execution_count": 71,
      "outputs": [
        {
          "output_type": "execute_result",
          "data": {
            "text/plain": [
              "array([2, 1, 1, 2, 0, 1, 1, 1, 1, 0, 0, 2, 0, 2, 2, 0, 2, 1, 0, 1, 2, 0,\n",
              "       2, 2, 2, 2, 0, 2, 2, 1, 2, 0, 0, 2, 1, 1, 1, 0, 2, 0, 1, 2, 1, 1,\n",
              "       1, 0, 0, 2, 2, 1, 2, 1, 0, 2, 1, 1, 0, 0, 2, 2, 0, 2, 2, 2, 1, 1,\n",
              "       0, 2, 2, 2, 1, 1, 1, 1, 0, 0, 0, 1, 1, 2, 0, 1, 0, 2, 2, 1, 0, 1,\n",
              "       0, 2, 1, 0, 2, 0, 1, 0, 1, 2, 0, 2, 1, 2, 1, 0, 2, 1, 2, 1, 1, 2,\n",
              "       2, 2, 2, 1, 0, 0, 1, 0, 0, 1, 2, 1, 2, 0, 0, 1, 0, 0, 0, 0, 0, 1,\n",
              "       0, 0, 2, 1, 0, 1, 1, 2, 1, 0, 1, 1, 0, 2, 0, 0, 0, 0, 0, 2, 1, 2,\n",
              "       2, 2, 0, 1, 1, 0, 1, 2, 2, 2, 0, 0, 2, 0, 2, 1, 2, 2, 0, 0, 0, 1,\n",
              "       2, 2, 2, 0, 2, 2, 2, 2, 2, 0, 0, 0, 2, 2, 2, 0, 2, 2, 2, 1, 0, 2,\n",
              "       2, 0, 2, 0, 2, 1, 0, 1, 0, 1, 1, 0, 1, 1, 0, 0, 0, 2, 0, 0, 0, 2,\n",
              "       2, 0, 1, 0, 1, 1, 0, 1, 2, 2, 1, 1, 1, 2, 0, 2, 0, 1, 1, 1, 2, 0,\n",
              "       2, 2, 2, 2, 2, 2, 0, 1, 2, 1, 1, 1, 1, 1, 2, 2, 1, 0, 0, 0, 2, 1,\n",
              "       0, 0, 2, 1, 1, 1, 0, 1, 0, 0, 2, 2, 2, 1, 2, 0, 2, 2, 1, 1, 2, 0,\n",
              "       1, 2, 0, 2, 1, 2, 1, 1, 0, 0, 2, 1, 0, 2])"
            ]
          },
          "metadata": {},
          "execution_count": 71
        }
      ]
    },
    {
      "cell_type": "code",
      "source": [
        "from sklearn.metrics import accuracy_score, confusion_matrix, classification_report"
      ],
      "metadata": {
        "id": "FSfxnxNzLv3O"
      },
      "execution_count": 72,
      "outputs": []
    },
    {
      "cell_type": "code",
      "source": [
        "print(\"Acurácia: %.2f%%\" % (accuracy_score(y_teste, previsoes_logistica) * 100.0))"
      ],
      "metadata": {
        "colab": {
          "base_uri": "https://localhost:8080/"
        },
        "id": "UbEHZPBNLwzZ",
        "outputId": "47455d54-50b1-476a-deb3-962d39179f4b"
      },
      "execution_count": 73,
      "outputs": [
        {
          "output_type": "stream",
          "name": "stdout",
          "text": [
            "Acurácia: 99.67%\n"
          ]
        }
      ]
    },
    {
      "cell_type": "code",
      "source": [
        "confusion_matrix(y_teste, previsoes_logistica)"
      ],
      "metadata": {
        "colab": {
          "base_uri": "https://localhost:8080/"
        },
        "id": "mH6bBP5ILzt-",
        "outputId": "f03a003c-22f0-46c3-e1eb-e15633c48638"
      },
      "execution_count": 74,
      "outputs": [
        {
          "output_type": "execute_result",
          "data": {
            "text/plain": [
              "array([[ 98,   1,   0],\n",
              "       [  0,  93,   0],\n",
              "       [  0,   0, 108]])"
            ]
          },
          "metadata": {},
          "execution_count": 74
        }
      ]
    },
    {
      "cell_type": "code",
      "source": [
        "print(classification_report(y_teste, previsoes_logistica))"
      ],
      "metadata": {
        "colab": {
          "base_uri": "https://localhost:8080/"
        },
        "id": "W2c9QUuhL2Tm",
        "outputId": "3a58226e-13d4-46a4-bcbd-947d74b5d685"
      },
      "execution_count": 75,
      "outputs": [
        {
          "output_type": "stream",
          "name": "stdout",
          "text": [
            "              precision    recall  f1-score   support\n",
            "\n",
            "           0       1.00      0.99      0.99        99\n",
            "           1       0.99      1.00      0.99        93\n",
            "           2       1.00      1.00      1.00       108\n",
            "\n",
            "    accuracy                           1.00       300\n",
            "   macro avg       1.00      1.00      1.00       300\n",
            "weighted avg       1.00      1.00      1.00       300\n",
            "\n"
          ]
        }
      ]
    },
    {
      "cell_type": "markdown",
      "source": [
        "**Análise dados de treino**"
      ],
      "metadata": {
        "id": "cDUOnvt_L6k_"
      }
    },
    {
      "cell_type": "code",
      "source": [
        "previsoes_treino = logistica.predict(x_treino)\n",
        "previsoes_treino"
      ],
      "metadata": {
        "colab": {
          "base_uri": "https://localhost:8080/"
        },
        "id": "RCIfZD3zL3yg",
        "outputId": "83ce096d-a762-421f-b862-3f73985b8409"
      },
      "execution_count": 76,
      "outputs": [
        {
          "output_type": "execute_result",
          "data": {
            "text/plain": [
              "array([2, 2, 1, 1, 0, 0, 0, 2, 1, 0, 0, 0, 1, 2, 2, 0, 2, 1, 1, 0, 0, 0,\n",
              "       0, 2, 1, 1, 0, 0, 0, 2, 1, 1, 1, 2, 0, 2, 2, 2, 1, 1, 1, 0, 0, 1,\n",
              "       2, 2, 1, 2, 0, 2, 1, 1, 1, 1, 1, 1, 2, 2, 1, 2, 2, 2, 1, 1, 2, 2,\n",
              "       1, 1, 2, 2, 1, 0, 1, 2, 2, 0, 1, 2, 2, 1, 1, 0, 2, 2, 2, 1, 0, 2,\n",
              "       2, 0, 0, 2, 2, 1, 1, 1, 0, 2, 0, 2, 2, 2, 2, 0, 1, 0, 2, 0, 2, 0,\n",
              "       1, 0, 2, 2, 2, 2, 0, 0, 1, 1, 1, 1, 2, 1, 1, 2, 0, 0, 0, 0, 2, 0,\n",
              "       1, 2, 1, 0, 0, 0, 0, 1, 2, 1, 0, 1, 2, 1, 2, 0, 1, 1, 0, 2, 0, 2,\n",
              "       2, 0, 2, 2, 2, 2, 2, 1, 0, 2, 2, 0, 0, 2, 1, 0, 1, 1, 2, 1, 2, 1,\n",
              "       2, 1, 0, 1, 2, 1, 1, 2, 0, 2, 2, 2, 1, 0, 0, 2, 0, 2, 2, 2, 0, 2,\n",
              "       2, 0, 1, 1, 1, 1, 1, 1, 0, 1, 1, 2, 2, 2, 0, 2, 1, 2, 2, 1, 2, 2,\n",
              "       0, 1, 2, 0, 0, 0, 1, 2, 1, 2, 0, 1, 1, 2, 2, 0, 2, 2, 1, 0, 1, 2,\n",
              "       1, 0, 1, 2, 1, 2, 1, 1, 0, 2, 2, 2, 2, 2, 0, 0, 2, 2, 0, 0, 1, 0,\n",
              "       1, 0, 1, 2, 1, 2, 1, 1, 0, 1, 2, 1, 0, 1, 2, 1, 0, 0, 0, 2, 1, 1,\n",
              "       1, 2, 0, 2, 2, 2, 2, 2, 0, 0, 1, 2, 1, 0, 2, 2, 0, 1, 2, 0, 1, 1,\n",
              "       2, 1, 0, 2, 0, 0, 0, 1, 2, 2, 0, 2, 1, 0, 2, 2, 1, 2, 0, 1, 2, 2,\n",
              "       2, 1, 2, 1, 2, 1, 2, 1, 2, 1, 1, 0, 0, 1, 2, 0, 1, 0, 2, 2, 2, 2,\n",
              "       1, 1, 0, 0, 1, 0, 1, 1, 1, 1, 2, 2, 0, 2, 1, 2, 0, 1, 2, 2, 0, 0,\n",
              "       1, 1, 1, 2, 2, 1, 1, 1, 2, 1, 2, 2, 2, 0, 2, 2, 2, 2, 0, 1, 1, 1,\n",
              "       0, 2, 0, 2, 1, 1, 2, 1, 0, 1, 1, 1, 0, 0, 2, 2, 1, 2, 1, 1, 0, 0,\n",
              "       1, 2, 0, 0, 1, 2, 1, 0, 2, 0, 1, 0, 1, 2, 2, 1, 0, 1, 1, 1, 0, 2,\n",
              "       1, 2, 1, 0, 1, 2, 2, 2, 0, 1, 1, 0, 2, 2, 1, 0, 0, 1, 0, 2, 0, 1,\n",
              "       1, 0, 1, 0, 1, 1, 2, 0, 2, 1, 2, 1, 2, 0, 2, 2, 2, 0, 1, 0, 2, 0,\n",
              "       1, 1, 1, 2, 2, 2, 1, 0, 0, 0, 2, 0, 2, 1, 2, 0, 0, 1, 2, 1, 2, 0,\n",
              "       2, 1, 0, 1, 0, 1, 1, 0, 1, 0, 1, 2, 1, 0, 2, 2, 1, 1, 1, 0, 1, 0,\n",
              "       0, 2, 1, 0, 2, 0, 0, 1, 0, 1, 1, 1, 1, 2, 2, 0, 1, 0, 0, 2, 0, 0,\n",
              "       2, 1, 0, 2, 0, 1, 0, 1, 2, 1, 2, 0, 1, 0, 2, 2, 2, 0, 1, 0, 0, 0,\n",
              "       2, 0, 0, 1, 0, 1, 1, 0, 0, 1, 2, 1, 0, 0, 1, 1, 2, 1, 0, 0, 0, 2,\n",
              "       2, 1, 1, 1, 2, 2, 0, 0, 2, 2, 2, 1, 1, 2, 0, 1, 1, 2, 1, 2, 2, 1,\n",
              "       2, 1, 2, 2, 0, 2, 0, 2, 0, 0, 0, 0, 0, 2, 0, 2, 2, 0, 0, 0, 2, 1,\n",
              "       2, 1, 2, 1, 1, 1, 0, 2, 0, 2, 2, 1, 2, 0, 1, 0, 2, 0, 2, 2, 1, 1,\n",
              "       2, 1, 2, 2, 1, 0, 2, 2, 2, 2, 1, 2, 2, 2, 1, 1, 1, 2, 2, 0, 0, 2,\n",
              "       1, 0, 2, 1, 0, 1, 2, 0, 2, 1, 1, 0, 2, 0, 1, 1, 2, 2])"
            ]
          },
          "metadata": {},
          "execution_count": 76
        }
      ]
    },
    {
      "cell_type": "code",
      "source": [
        "accuracy_score(y_treino, previsoes_treino)"
      ],
      "metadata": {
        "colab": {
          "base_uri": "https://localhost:8080/"
        },
        "id": "tDryTEKyL_HB",
        "outputId": "766fd0b7-184e-40cf-f69a-de6b339dc288"
      },
      "execution_count": 77,
      "outputs": [
        {
          "output_type": "execute_result",
          "data": {
            "text/plain": [
              "1.0"
            ]
          },
          "metadata": {},
          "execution_count": 77
        }
      ]
    },
    {
      "cell_type": "code",
      "source": [
        "confusion_matrix(y_treino, previsoes_treino)"
      ],
      "metadata": {
        "colab": {
          "base_uri": "https://localhost:8080/"
        },
        "id": "H_wLf0GKMBpl",
        "outputId": "5a02c155-b4bf-4b12-88db-44ffd4e44ff1"
      },
      "execution_count": 78,
      "outputs": [
        {
          "output_type": "execute_result",
          "data": {
            "text/plain": [
              "array([[204,   0,   0],\n",
              "       [  0, 239,   0],\n",
              "       [  0,   0, 257]])"
            ]
          },
          "metadata": {},
          "execution_count": 78
        }
      ]
    },
    {
      "cell_type": "markdown",
      "source": [
        "Regressão Logística = 85,87%"
      ],
      "metadata": {
        "id": "M-byHxzeMCUW"
      }
    }
  ]
}